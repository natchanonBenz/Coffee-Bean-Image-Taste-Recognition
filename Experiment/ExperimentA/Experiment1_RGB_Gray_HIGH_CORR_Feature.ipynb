{
 "cells": [
  {
   "cell_type": "code",
   "execution_count": 122,
   "metadata": {},
   "outputs": [],
   "source": [
    "#Train camera 80 test phone 20\n",
    "#RGB"
   ]
  },
  {
   "cell_type": "code",
   "execution_count": 3,
   "metadata": {},
   "outputs": [],
   "source": [
    "import numpy as np \n",
    "import pandas as pd \n",
    "from sklearn.metrics import confusion_matrix \n",
    "from sklearn.model_selection import train_test_split \n",
    "from sklearn.tree import DecisionTreeClassifier \n",
    "from sklearn.metrics import accuracy_score \n",
    "from sklearn.metrics import classification_report "
   ]
  },
  {
   "cell_type": "code",
   "execution_count": 124,
   "metadata": {
    "scrolled": true
   },
   "outputs": [
    {
     "data": {
      "text/html": [
       "<div>\n",
       "<style scoped>\n",
       "    .dataframe tbody tr th:only-of-type {\n",
       "        vertical-align: middle;\n",
       "    }\n",
       "\n",
       "    .dataframe tbody tr th {\n",
       "        vertical-align: top;\n",
       "    }\n",
       "\n",
       "    .dataframe thead th {\n",
       "        text-align: right;\n",
       "    }\n",
       "</style>\n",
       "<table border=\"1\" class=\"dataframe\">\n",
       "  <thead>\n",
       "    <tr style=\"text-align: right;\">\n",
       "      <th></th>\n",
       "      <th>Red</th>\n",
       "      <th>Green</th>\n",
       "      <th>Gray</th>\n",
       "      <th>Energy</th>\n",
       "      <th>Homogeneity</th>\n",
       "      <th>Asm</th>\n",
       "      <th>Correlation</th>\n",
       "    </tr>\n",
       "  </thead>\n",
       "  <tbody>\n",
       "    <tr>\n",
       "      <th>0</th>\n",
       "      <td>19.17</td>\n",
       "      <td>13.49</td>\n",
       "      <td>14.62</td>\n",
       "      <td>0.73</td>\n",
       "      <td>0.77</td>\n",
       "      <td>0.53</td>\n",
       "      <td>0.96</td>\n",
       "    </tr>\n",
       "    <tr>\n",
       "      <th>1</th>\n",
       "      <td>17.23</td>\n",
       "      <td>12.19</td>\n",
       "      <td>13.16</td>\n",
       "      <td>0.73</td>\n",
       "      <td>0.77</td>\n",
       "      <td>0.53</td>\n",
       "      <td>0.95</td>\n",
       "    </tr>\n",
       "    <tr>\n",
       "      <th>2</th>\n",
       "      <td>17.39</td>\n",
       "      <td>12.53</td>\n",
       "      <td>13.47</td>\n",
       "      <td>0.73</td>\n",
       "      <td>0.77</td>\n",
       "      <td>0.53</td>\n",
       "      <td>0.95</td>\n",
       "    </tr>\n",
       "    <tr>\n",
       "      <th>3</th>\n",
       "      <td>16.62</td>\n",
       "      <td>11.73</td>\n",
       "      <td>12.69</td>\n",
       "      <td>0.75</td>\n",
       "      <td>0.78</td>\n",
       "      <td>0.56</td>\n",
       "      <td>0.95</td>\n",
       "    </tr>\n",
       "    <tr>\n",
       "      <th>4</th>\n",
       "      <td>14.97</td>\n",
       "      <td>10.67</td>\n",
       "      <td>11.50</td>\n",
       "      <td>0.74</td>\n",
       "      <td>0.79</td>\n",
       "      <td>0.55</td>\n",
       "      <td>0.94</td>\n",
       "    </tr>\n",
       "    <tr>\n",
       "      <th>...</th>\n",
       "      <td>...</td>\n",
       "      <td>...</td>\n",
       "      <td>...</td>\n",
       "      <td>...</td>\n",
       "      <td>...</td>\n",
       "      <td>...</td>\n",
       "      <td>...</td>\n",
       "    </tr>\n",
       "    <tr>\n",
       "      <th>75</th>\n",
       "      <td>15.56</td>\n",
       "      <td>11.16</td>\n",
       "      <td>12.06</td>\n",
       "      <td>0.67</td>\n",
       "      <td>0.69</td>\n",
       "      <td>0.45</td>\n",
       "      <td>0.87</td>\n",
       "    </tr>\n",
       "    <tr>\n",
       "      <th>76</th>\n",
       "      <td>13.78</td>\n",
       "      <td>9.55</td>\n",
       "      <td>10.43</td>\n",
       "      <td>0.68</td>\n",
       "      <td>0.70</td>\n",
       "      <td>0.46</td>\n",
       "      <td>0.86</td>\n",
       "    </tr>\n",
       "    <tr>\n",
       "      <th>77</th>\n",
       "      <td>14.76</td>\n",
       "      <td>10.34</td>\n",
       "      <td>11.26</td>\n",
       "      <td>0.65</td>\n",
       "      <td>0.68</td>\n",
       "      <td>0.42</td>\n",
       "      <td>0.86</td>\n",
       "    </tr>\n",
       "    <tr>\n",
       "      <th>78</th>\n",
       "      <td>13.60</td>\n",
       "      <td>9.54</td>\n",
       "      <td>10.38</td>\n",
       "      <td>0.65</td>\n",
       "      <td>0.68</td>\n",
       "      <td>0.42</td>\n",
       "      <td>0.86</td>\n",
       "    </tr>\n",
       "    <tr>\n",
       "      <th>79</th>\n",
       "      <td>13.48</td>\n",
       "      <td>9.46</td>\n",
       "      <td>10.29</td>\n",
       "      <td>0.68</td>\n",
       "      <td>0.71</td>\n",
       "      <td>0.46</td>\n",
       "      <td>0.87</td>\n",
       "    </tr>\n",
       "  </tbody>\n",
       "</table>\n",
       "<p>80 rows × 7 columns</p>\n",
       "</div>"
      ],
      "text/plain": [
       "      Red  Green   Gray  Energy  Homogeneity   Asm  Correlation\n",
       "0   19.17  13.49  14.62    0.73         0.77  0.53         0.96\n",
       "1   17.23  12.19  13.16    0.73         0.77  0.53         0.95\n",
       "2   17.39  12.53  13.47    0.73         0.77  0.53         0.95\n",
       "3   16.62  11.73  12.69    0.75         0.78  0.56         0.95\n",
       "4   14.97  10.67  11.50    0.74         0.79  0.55         0.94\n",
       "..    ...    ...    ...     ...          ...   ...          ...\n",
       "75  15.56  11.16  12.06    0.67         0.69  0.45         0.87\n",
       "76  13.78   9.55  10.43    0.68         0.70  0.46         0.86\n",
       "77  14.76  10.34  11.26    0.65         0.68  0.42         0.86\n",
       "78  13.60   9.54  10.38    0.65         0.68  0.42         0.86\n",
       "79  13.48   9.46  10.29    0.68         0.71  0.46         0.87\n",
       "\n",
       "[80 rows x 7 columns]"
      ]
     },
     "execution_count": 124,
     "metadata": {},
     "output_type": "execute_result"
    }
   ],
   "source": [
    "df = pd.read_excel('C:/Users/U5988116/Desktop/SeniorProject/Data/Database/Main/coffee_bean_DSLR_20.xlsx')  \n",
    "df2 = df \n",
    "d1= df.iloc[:, 1:3]\n",
    "d2= df.iloc[:,4:5]\n",
    "d3= df.iloc[:,6:10]\n",
    "hi_df = pd.concat([d1,d2,d3], axis=1) #high corr feature\n",
    "hi_df"
   ]
  },
  {
   "cell_type": "code",
   "execution_count": 125,
   "metadata": {},
   "outputs": [
    {
     "data": {
      "text/html": [
       "<div>\n",
       "<style scoped>\n",
       "    .dataframe tbody tr th:only-of-type {\n",
       "        vertical-align: middle;\n",
       "    }\n",
       "\n",
       "    .dataframe tbody tr th {\n",
       "        vertical-align: top;\n",
       "    }\n",
       "\n",
       "    .dataframe thead th {\n",
       "        text-align: right;\n",
       "    }\n",
       "</style>\n",
       "<table border=\"1\" class=\"dataframe\">\n",
       "  <thead>\n",
       "    <tr style=\"text-align: right;\">\n",
       "      <th></th>\n",
       "      <th>Red</th>\n",
       "      <th>Green</th>\n",
       "      <th>Gray</th>\n",
       "      <th>Energy</th>\n",
       "      <th>Homogeneity</th>\n",
       "      <th>Asm</th>\n",
       "      <th>Correlation</th>\n",
       "    </tr>\n",
       "  </thead>\n",
       "  <tbody>\n",
       "    <tr>\n",
       "      <th>70</th>\n",
       "      <td>12.75</td>\n",
       "      <td>8.88</td>\n",
       "      <td>9.68</td>\n",
       "      <td>0.68</td>\n",
       "      <td>0.71</td>\n",
       "      <td>0.47</td>\n",
       "      <td>0.85</td>\n",
       "    </tr>\n",
       "    <tr>\n",
       "      <th>71</th>\n",
       "      <td>11.96</td>\n",
       "      <td>8.34</td>\n",
       "      <td>9.09</td>\n",
       "      <td>0.70</td>\n",
       "      <td>0.72</td>\n",
       "      <td>0.49</td>\n",
       "      <td>0.86</td>\n",
       "    </tr>\n",
       "    <tr>\n",
       "      <th>72</th>\n",
       "      <td>12.00</td>\n",
       "      <td>8.33</td>\n",
       "      <td>9.08</td>\n",
       "      <td>0.70</td>\n",
       "      <td>0.73</td>\n",
       "      <td>0.49</td>\n",
       "      <td>0.86</td>\n",
       "    </tr>\n",
       "    <tr>\n",
       "      <th>73</th>\n",
       "      <td>12.33</td>\n",
       "      <td>8.57</td>\n",
       "      <td>9.35</td>\n",
       "      <td>0.69</td>\n",
       "      <td>0.72</td>\n",
       "      <td>0.48</td>\n",
       "      <td>0.86</td>\n",
       "    </tr>\n",
       "    <tr>\n",
       "      <th>74</th>\n",
       "      <td>12.42</td>\n",
       "      <td>8.57</td>\n",
       "      <td>9.37</td>\n",
       "      <td>0.71</td>\n",
       "      <td>0.73</td>\n",
       "      <td>0.51</td>\n",
       "      <td>0.87</td>\n",
       "    </tr>\n",
       "    <tr>\n",
       "      <th>75</th>\n",
       "      <td>15.56</td>\n",
       "      <td>11.16</td>\n",
       "      <td>12.06</td>\n",
       "      <td>0.67</td>\n",
       "      <td>0.69</td>\n",
       "      <td>0.45</td>\n",
       "      <td>0.87</td>\n",
       "    </tr>\n",
       "    <tr>\n",
       "      <th>76</th>\n",
       "      <td>13.78</td>\n",
       "      <td>9.55</td>\n",
       "      <td>10.43</td>\n",
       "      <td>0.68</td>\n",
       "      <td>0.70</td>\n",
       "      <td>0.46</td>\n",
       "      <td>0.86</td>\n",
       "    </tr>\n",
       "    <tr>\n",
       "      <th>77</th>\n",
       "      <td>14.76</td>\n",
       "      <td>10.34</td>\n",
       "      <td>11.26</td>\n",
       "      <td>0.65</td>\n",
       "      <td>0.68</td>\n",
       "      <td>0.42</td>\n",
       "      <td>0.86</td>\n",
       "    </tr>\n",
       "    <tr>\n",
       "      <th>78</th>\n",
       "      <td>13.60</td>\n",
       "      <td>9.54</td>\n",
       "      <td>10.38</td>\n",
       "      <td>0.65</td>\n",
       "      <td>0.68</td>\n",
       "      <td>0.42</td>\n",
       "      <td>0.86</td>\n",
       "    </tr>\n",
       "    <tr>\n",
       "      <th>79</th>\n",
       "      <td>13.48</td>\n",
       "      <td>9.46</td>\n",
       "      <td>10.29</td>\n",
       "      <td>0.68</td>\n",
       "      <td>0.71</td>\n",
       "      <td>0.46</td>\n",
       "      <td>0.87</td>\n",
       "    </tr>\n",
       "  </tbody>\n",
       "</table>\n",
       "</div>"
      ],
      "text/plain": [
       "      Red  Green   Gray  Energy  Homogeneity   Asm  Correlation\n",
       "70  12.75   8.88   9.68    0.68         0.71  0.47         0.85\n",
       "71  11.96   8.34   9.09    0.70         0.72  0.49         0.86\n",
       "72  12.00   8.33   9.08    0.70         0.73  0.49         0.86\n",
       "73  12.33   8.57   9.35    0.69         0.72  0.48         0.86\n",
       "74  12.42   8.57   9.37    0.71         0.73  0.51         0.87\n",
       "75  15.56  11.16  12.06    0.67         0.69  0.45         0.87\n",
       "76  13.78   9.55  10.43    0.68         0.70  0.46         0.86\n",
       "77  14.76  10.34  11.26    0.65         0.68  0.42         0.86\n",
       "78  13.60   9.54  10.38    0.65         0.68  0.42         0.86\n",
       "79  13.48   9.46  10.29    0.68         0.71  0.46         0.87"
      ]
     },
     "execution_count": 125,
     "metadata": {},
     "output_type": "execute_result"
    }
   ],
   "source": [
    "df=hi_df\n",
    "BAL_1 = df.iloc[0:10,0:7] #BAL\n",
    "BPL_1 = df.iloc[10:20,0:7] #BPL\n",
    "CM_2= df.iloc[20:30,0:7] #CM\n",
    "BAM_3 = df.iloc[30:40,0:7]#BAM\n",
    "BPM_3 = df.iloc[40:50,0:7]#BPM\n",
    "BAD_4 = df.iloc[50:60,0:7]#BAD\n",
    "PD_4 = df.iloc[60:70,0:7]#PD\n",
    "PM_2= df.iloc[70:80,0:7]#PM\n",
    "PM_2\n"
   ]
  },
  {
   "cell_type": "code",
   "execution_count": 126,
   "metadata": {},
   "outputs": [],
   "source": [
    "G1= pd.concat([BAL_1, BPL_1])\n",
    "feature_G1 = G1.values\n",
    "G2= pd.concat([CM_2,PM_2])\n",
    "feature_G2 = G2.values\n",
    "G3=pd.concat([BAM_3,BPM_3])\n",
    "feature_G3 = G3.values\n",
    "G4=pd.concat([BAD_4,PD_4])\n",
    "feature_G4 = G4.values"
   ]
  },
  {
   "cell_type": "code",
   "execution_count": 127,
   "metadata": {},
   "outputs": [
    {
     "data": {
      "text/html": [
       "<div>\n",
       "<style scoped>\n",
       "    .dataframe tbody tr th:only-of-type {\n",
       "        vertical-align: middle;\n",
       "    }\n",
       "\n",
       "    .dataframe tbody tr th {\n",
       "        vertical-align: top;\n",
       "    }\n",
       "\n",
       "    .dataframe thead th {\n",
       "        text-align: right;\n",
       "    }\n",
       "</style>\n",
       "<table border=\"1\" class=\"dataframe\">\n",
       "  <thead>\n",
       "    <tr style=\"text-align: right;\">\n",
       "      <th></th>\n",
       "      <th>Group</th>\n",
       "    </tr>\n",
       "  </thead>\n",
       "  <tbody>\n",
       "    <tr>\n",
       "      <th>70</th>\n",
       "      <td>2</td>\n",
       "    </tr>\n",
       "    <tr>\n",
       "      <th>71</th>\n",
       "      <td>2</td>\n",
       "    </tr>\n",
       "    <tr>\n",
       "      <th>72</th>\n",
       "      <td>2</td>\n",
       "    </tr>\n",
       "    <tr>\n",
       "      <th>73</th>\n",
       "      <td>2</td>\n",
       "    </tr>\n",
       "    <tr>\n",
       "      <th>74</th>\n",
       "      <td>2</td>\n",
       "    </tr>\n",
       "    <tr>\n",
       "      <th>75</th>\n",
       "      <td>2</td>\n",
       "    </tr>\n",
       "    <tr>\n",
       "      <th>76</th>\n",
       "      <td>2</td>\n",
       "    </tr>\n",
       "    <tr>\n",
       "      <th>77</th>\n",
       "      <td>2</td>\n",
       "    </tr>\n",
       "    <tr>\n",
       "      <th>78</th>\n",
       "      <td>2</td>\n",
       "    </tr>\n",
       "    <tr>\n",
       "      <th>79</th>\n",
       "      <td>2</td>\n",
       "    </tr>\n",
       "  </tbody>\n",
       "</table>\n",
       "</div>"
      ],
      "text/plain": [
       "    Group\n",
       "70      2\n",
       "71      2\n",
       "72      2\n",
       "73      2\n",
       "74      2\n",
       "75      2\n",
       "76      2\n",
       "77      2\n",
       "78      2\n",
       "79      2"
      ]
     },
     "execution_count": 127,
     "metadata": {},
     "output_type": "execute_result"
    }
   ],
   "source": [
    "df = df2\n",
    "Target_BAL_1 = df.iloc[0:10,11:12]#BAL\n",
    "Target_BPL_1 = df.iloc[10:20,11:12]#BPL\n",
    "Target_CM_2= df.iloc[20:30,11:12]#CM\n",
    "Target_BAM_3 = df.iloc[30:40,11:12]#BAM\n",
    "Target_BPM_3 = df.iloc[40:50,11:12]#BPM\n",
    "Target_BAD_4 = df.iloc[50:60,11:12]#BAD\n",
    "Target_PD_4 = df.iloc[60:70,11:12]#PD\n",
    "Target_PM_2= df.iloc[70:80,11:12]#PM\n",
    "Target_PM_2\n"
   ]
  },
  {
   "cell_type": "code",
   "execution_count": 128,
   "metadata": {},
   "outputs": [
    {
     "data": {
      "text/plain": [
       "array([[1],\n",
       "       [1],\n",
       "       [1],\n",
       "       [1],\n",
       "       [1],\n",
       "       [1],\n",
       "       [1],\n",
       "       [1],\n",
       "       [1],\n",
       "       [1],\n",
       "       [1],\n",
       "       [1],\n",
       "       [1],\n",
       "       [1],\n",
       "       [1],\n",
       "       [1],\n",
       "       [1],\n",
       "       [1],\n",
       "       [1],\n",
       "       [1]], dtype=int64)"
      ]
     },
     "execution_count": 128,
     "metadata": {},
     "output_type": "execute_result"
    }
   ],
   "source": [
    "G1_target = pd.concat([Target_BAL_1, Target_BPL_1]).values\n",
    "G2_target = pd.concat([Target_CM_2,Target_PM_2]).values\n",
    "G3_target = pd.concat([Target_BAM_3,Target_BPM_3]).values\n",
    "G4_target = pd.concat([Target_BAD_4,Target_PD_4]).values\n",
    "G1_target"
   ]
  },
  {
   "cell_type": "code",
   "execution_count": 129,
   "metadata": {},
   "outputs": [],
   "source": [
    "# 80% training and 20% test\n",
    "fea_train_G1, fea_test_G1, tar_train_G1, tar_test_G1 = train_test_split(feature_G1,G1_target, test_size=0.2, random_state=1)\n",
    "fea_train_G2, fea_test_G2, tar_train_G2, tar_test_G2 = train_test_split(feature_G2,G2_target, test_size=0.2, random_state=1)\n",
    "fea_train_G3, fea_test_G3, tar_train_G3, tar_test_G3 = train_test_split(feature_G3,G3_target, test_size=0.2, random_state=1)\n",
    "fea_train_G4, fea_test_G4, tar_train_G4, tar_test_G4 = train_test_split(feature_G4,G4_target, test_size=0.2, random_state=1)"
   ]
  },
  {
   "cell_type": "code",
   "execution_count": 130,
   "metadata": {
    "scrolled": true
   },
   "outputs": [
    {
     "data": {
      "text/plain": [
       "array([[17.39, 12.53, 13.47,  0.73,  0.77,  0.53,  0.95],\n",
       "       [16.85, 12.52, 13.41,  0.73,  0.78,  0.54,  0.97],\n",
       "       [14.97, 10.67, 11.5 ,  0.74,  0.79,  0.55,  0.94],\n",
       "       [12.06,  8.17,  8.97,  0.76,  0.8 ,  0.57,  0.93],\n",
       "       [16.79, 12.02, 12.95,  0.73,  0.78,  0.54,  0.96],\n",
       "       [17.23, 12.19, 13.16,  0.73,  0.77,  0.53,  0.95],\n",
       "       [15.63, 10.47, 11.53,  0.73,  0.77,  0.53,  0.95],\n",
       "       [19.17, 13.49, 14.62,  0.73,  0.77,  0.53,  0.96],\n",
       "       [13.04,  8.85,  9.71,  0.74,  0.79,  0.55,  0.94],\n",
       "       [12.93,  8.68,  9.55,  0.75,  0.79,  0.56,  0.94],\n",
       "       [16.14, 11.6 , 12.49,  0.74,  0.78,  0.55,  0.95],\n",
       "       [13.97, 10.03, 10.85,  0.75,  0.8 ,  0.57,  0.97],\n",
       "       [17.91, 12.76, 13.78,  0.73,  0.77,  0.53,  0.95],\n",
       "       [13.76,  9.28, 10.21,  0.75,  0.79,  0.56,  0.95],\n",
       "       [15.35, 10.31, 11.35,  0.73,  0.77,  0.53,  0.95],\n",
       "       [14.46, 10.35, 11.14,  0.75,  0.79,  0.56,  0.95]])"
      ]
     },
     "execution_count": 130,
     "metadata": {},
     "output_type": "execute_result"
    }
   ],
   "source": [
    "fea_train_G1"
   ]
  },
  {
   "cell_type": "code",
   "execution_count": 131,
   "metadata": {},
   "outputs": [],
   "source": [
    "main_feature_train = np.concatenate((fea_train_G1, fea_train_G2,fea_train_G3,fea_train_G4), axis=0)\n",
    "main_target_train=np.concatenate((tar_train_G1, tar_train_G2,tar_train_G3,tar_train_G4), axis=0)\n",
    "main_feature_test = np.concatenate(( fea_test_G1,  fea_test_G2, fea_test_G3, fea_test_G4), axis=0)\n",
    "main_target_test=np.concatenate((tar_test_G1, tar_test_G2,tar_test_G3,tar_test_G4), axis=0)"
   ]
  },
  {
   "cell_type": "code",
   "execution_count": 132,
   "metadata": {},
   "outputs": [
    {
     "data": {
      "text/plain": [
       "DecisionTreeClassifier(ccp_alpha=0.0, class_weight=None, criterion='gini',\n",
       "                       max_depth=30, max_features=7, max_leaf_nodes=None,\n",
       "                       min_impurity_decrease=0.0, min_impurity_split=None,\n",
       "                       min_samples_leaf=4, min_samples_split=2,\n",
       "                       min_weight_fraction_leaf=0.0, presort='deprecated',\n",
       "                       random_state=None, splitter='best')"
      ]
     },
     "execution_count": 132,
     "metadata": {},
     "output_type": "execute_result"
    }
   ],
   "source": [
    "dTree = DecisionTreeClassifier(max_depth = 30, min_samples_leaf = 4, max_features = 7)\n",
    "dTree.fit(main_feature_train,main_target_train)"
   ]
  },
  {
   "cell_type": "code",
   "execution_count": 133,
   "metadata": {},
   "outputs": [
    {
     "data": {
      "text/plain": [
       "array([1, 4, 1, 1, 1, 2, 3, 2, 3, 3, 3, 4, 4, 4, 4, 4], dtype=int64)"
      ]
     },
     "execution_count": 133,
     "metadata": {},
     "output_type": "execute_result"
    }
   ],
   "source": [
    "ModelDT = dTree.predict(main_feature_test)\n",
    "ModelDT"
   ]
  },
  {
   "cell_type": "code",
   "execution_count": 134,
   "metadata": {},
   "outputs": [
    {
     "data": {
      "text/plain": [
       "array([[16.62, 11.73, 12.69,  0.75,  0.78,  0.56,  0.95],\n",
       "       [11.24,  7.58,  8.34,  0.76,  0.81,  0.58,  0.93],\n",
       "       [15.57, 11.12, 11.98,  0.74,  0.78,  0.54,  0.95],\n",
       "       [13.21,  8.92,  9.81,  0.75,  0.79,  0.56,  0.94],\n",
       "       [12.53,  9.36, 10.08,  0.75,  0.79,  0.56,  0.93],\n",
       "       [13.78,  9.55, 10.43,  0.68,  0.7 ,  0.46,  0.86],\n",
       "       [13.51,  9.89, 10.69,  0.73,  0.78,  0.54,  0.94],\n",
       "       [12.75,  8.88,  9.68,  0.68,  0.71,  0.47,  0.85],\n",
       "       [11.57,  9.42,  9.88,  0.73,  0.78,  0.53,  0.93],\n",
       "       [12.81, 10.02, 10.65,  0.73,  0.77,  0.53,  0.92],\n",
       "       [11.  ,  9.14,  9.54,  0.74,  0.79,  0.54,  0.93],\n",
       "       [ 9.93,  7.66,  8.18,  0.75,  0.8 ,  0.56,  0.92],\n",
       "       [11.66,  9.19,  9.77,  0.72,  0.77,  0.52,  0.9 ],\n",
       "       [ 8.71,  7.24,  7.59,  0.77,  0.82,  0.6 ,  0.92],\n",
       "       [ 9.14,  7.16,  7.62,  0.74,  0.79,  0.55,  0.91],\n",
       "       [10.45,  8.59,  9.03,  0.76,  0.81,  0.58,  0.93]])"
      ]
     },
     "execution_count": 134,
     "metadata": {},
     "output_type": "execute_result"
    }
   ],
   "source": [
    "main_feature_test"
   ]
  },
  {
   "cell_type": "code",
   "execution_count": 135,
   "metadata": {},
   "outputs": [
    {
     "name": "stdout",
     "output_type": "stream",
     "text": [
      "\n",
      "Desicion Tree\n",
      "\n",
      "Evaluation of DTree Model : \n",
      "               precision    recall  f1-score   support\n",
      "\n",
      "           1       0.75      0.75      0.75         4\n",
      "           2       1.00      0.50      0.67         4\n",
      "           3       0.75      0.75      0.75         4\n",
      "           4       0.67      1.00      0.80         4\n",
      "\n",
      "    accuracy                           0.75        16\n",
      "   macro avg       0.79      0.75      0.74        16\n",
      "weighted avg       0.79      0.75      0.74        16\n",
      "\n"
     ]
    }
   ],
   "source": [
    "\n",
    "print(\"\\nDesicion Tree\")\n",
    "\n",
    "print(\"\\nEvaluation of DTree Model : \\n\", classification_report(main_target_test, ModelDT))"
   ]
  },
  {
   "cell_type": "code",
   "execution_count": null,
   "metadata": {},
   "outputs": [],
   "source": []
  },
  {
   "cell_type": "code",
   "execution_count": null,
   "metadata": {},
   "outputs": [],
   "source": []
  },
  {
   "cell_type": "code",
   "execution_count": null,
   "metadata": {},
   "outputs": [],
   "source": []
  }
 ],
 "metadata": {
  "kernelspec": {
   "display_name": "Python 3",
   "language": "python",
   "name": "python3"
  },
  "language_info": {
   "codemirror_mode": {
    "name": "ipython",
    "version": 3
   },
   "file_extension": ".py",
   "mimetype": "text/x-python",
   "name": "python",
   "nbconvert_exporter": "python",
   "pygments_lexer": "ipython3",
   "version": "3.7.6"
  }
 },
 "nbformat": 4,
 "nbformat_minor": 4
}
