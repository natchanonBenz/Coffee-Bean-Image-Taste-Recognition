{
 "cells": [
  {
   "cell_type": "code",
   "execution_count": 110,
   "metadata": {},
   "outputs": [],
   "source": [
    "import numpy as np \n",
    "import pandas as pd \n",
    "from sklearn.metrics import confusion_matrix \n",
    "from sklearn.model_selection import train_test_split \n",
    "from sklearn.tree import DecisionTreeClassifier \n",
    "from sklearn.metrics import accuracy_score \n",
    "from sklearn.metrics import classification_report "
   ]
  },
  {
   "cell_type": "code",
   "execution_count": 111,
   "metadata": {},
   "outputs": [
    {
     "data": {
      "text/html": [
       "<div>\n",
       "<style scoped>\n",
       "    .dataframe tbody tr th:only-of-type {\n",
       "        vertical-align: middle;\n",
       "    }\n",
       "\n",
       "    .dataframe tbody tr th {\n",
       "        vertical-align: top;\n",
       "    }\n",
       "\n",
       "    .dataframe thead th {\n",
       "        text-align: right;\n",
       "    }\n",
       "</style>\n",
       "<table border=\"1\" class=\"dataframe\">\n",
       "  <thead>\n",
       "    <tr style=\"text-align: right;\">\n",
       "      <th></th>\n",
       "      <th>Name</th>\n",
       "      <th>Red</th>\n",
       "      <th>Green</th>\n",
       "      <th>Blue</th>\n",
       "      <th>Gray</th>\n",
       "      <th>Contrast</th>\n",
       "      <th>Energy</th>\n",
       "      <th>Homogeneity</th>\n",
       "      <th>Asm</th>\n",
       "      <th>Correlation</th>\n",
       "      <th>Dissimilarity</th>\n",
       "      <th>Group</th>\n",
       "      <th>pH</th>\n",
       "    </tr>\n",
       "  </thead>\n",
       "  <tbody>\n",
       "    <tr>\n",
       "      <th>0</th>\n",
       "      <td>BAL11.png</td>\n",
       "      <td>14.22</td>\n",
       "      <td>10.22</td>\n",
       "      <td>6.14</td>\n",
       "      <td>10.95</td>\n",
       "      <td>98.80</td>\n",
       "      <td>0.69</td>\n",
       "      <td>0.71</td>\n",
       "      <td>0.48</td>\n",
       "      <td>0.86</td>\n",
       "      <td>4.32</td>\n",
       "      <td>1</td>\n",
       "      <td>4.86</td>\n",
       "    </tr>\n",
       "    <tr>\n",
       "      <th>1</th>\n",
       "      <td>BAL12.png</td>\n",
       "      <td>12.11</td>\n",
       "      <td>8.68</td>\n",
       "      <td>5.24</td>\n",
       "      <td>9.31</td>\n",
       "      <td>91.88</td>\n",
       "      <td>0.72</td>\n",
       "      <td>0.74</td>\n",
       "      <td>0.52</td>\n",
       "      <td>0.85</td>\n",
       "      <td>3.92</td>\n",
       "      <td>1</td>\n",
       "      <td>4.86</td>\n",
       "    </tr>\n",
       "    <tr>\n",
       "      <th>2</th>\n",
       "      <td>BAL13.png</td>\n",
       "      <td>9.49</td>\n",
       "      <td>6.79</td>\n",
       "      <td>4.06</td>\n",
       "      <td>7.28</td>\n",
       "      <td>60.24</td>\n",
       "      <td>0.76</td>\n",
       "      <td>0.78</td>\n",
       "      <td>0.58</td>\n",
       "      <td>0.86</td>\n",
       "      <td>3.02</td>\n",
       "      <td>1</td>\n",
       "      <td>4.86</td>\n",
       "    </tr>\n",
       "    <tr>\n",
       "      <th>3</th>\n",
       "      <td>BAL14.png</td>\n",
       "      <td>10.70</td>\n",
       "      <td>7.60</td>\n",
       "      <td>4.55</td>\n",
       "      <td>8.18</td>\n",
       "      <td>75.34</td>\n",
       "      <td>0.74</td>\n",
       "      <td>0.76</td>\n",
       "      <td>0.54</td>\n",
       "      <td>0.85</td>\n",
       "      <td>3.44</td>\n",
       "      <td>1</td>\n",
       "      <td>4.86</td>\n",
       "    </tr>\n",
       "    <tr>\n",
       "      <th>4</th>\n",
       "      <td>BAL15.png</td>\n",
       "      <td>9.77</td>\n",
       "      <td>6.98</td>\n",
       "      <td>4.23</td>\n",
       "      <td>7.50</td>\n",
       "      <td>67.35</td>\n",
       "      <td>0.75</td>\n",
       "      <td>0.77</td>\n",
       "      <td>0.57</td>\n",
       "      <td>0.85</td>\n",
       "      <td>3.09</td>\n",
       "      <td>1</td>\n",
       "      <td>4.86</td>\n",
       "    </tr>\n",
       "    <tr>\n",
       "      <th>...</th>\n",
       "      <td>...</td>\n",
       "      <td>...</td>\n",
       "      <td>...</td>\n",
       "      <td>...</td>\n",
       "      <td>...</td>\n",
       "      <td>...</td>\n",
       "      <td>...</td>\n",
       "      <td>...</td>\n",
       "      <td>...</td>\n",
       "      <td>...</td>\n",
       "      <td>...</td>\n",
       "      <td>...</td>\n",
       "      <td>...</td>\n",
       "    </tr>\n",
       "    <tr>\n",
       "      <th>115</th>\n",
       "      <td>CD16.png</td>\n",
       "      <td>19.60</td>\n",
       "      <td>16.13</td>\n",
       "      <td>14.09</td>\n",
       "      <td>16.93</td>\n",
       "      <td>187.53</td>\n",
       "      <td>0.66</td>\n",
       "      <td>0.68</td>\n",
       "      <td>0.43</td>\n",
       "      <td>0.88</td>\n",
       "      <td>5.94</td>\n",
       "      <td>4</td>\n",
       "      <td>5.43</td>\n",
       "    </tr>\n",
       "    <tr>\n",
       "      <th>116</th>\n",
       "      <td>CD17.png</td>\n",
       "      <td>10.34</td>\n",
       "      <td>8.11</td>\n",
       "      <td>6.52</td>\n",
       "      <td>8.59</td>\n",
       "      <td>95.70</td>\n",
       "      <td>0.69</td>\n",
       "      <td>0.72</td>\n",
       "      <td>0.48</td>\n",
       "      <td>0.81</td>\n",
       "      <td>4.10</td>\n",
       "      <td>4</td>\n",
       "      <td>5.43</td>\n",
       "    </tr>\n",
       "    <tr>\n",
       "      <th>117</th>\n",
       "      <td>CD18.png</td>\n",
       "      <td>11.42</td>\n",
       "      <td>8.95</td>\n",
       "      <td>7.02</td>\n",
       "      <td>9.47</td>\n",
       "      <td>93.11</td>\n",
       "      <td>0.67</td>\n",
       "      <td>0.69</td>\n",
       "      <td>0.44</td>\n",
       "      <td>0.83</td>\n",
       "      <td>4.32</td>\n",
       "      <td>4</td>\n",
       "      <td>5.43</td>\n",
       "    </tr>\n",
       "    <tr>\n",
       "      <th>118</th>\n",
       "      <td>CD19.png</td>\n",
       "      <td>10.79</td>\n",
       "      <td>8.41</td>\n",
       "      <td>6.69</td>\n",
       "      <td>8.93</td>\n",
       "      <td>87.49</td>\n",
       "      <td>0.66</td>\n",
       "      <td>0.70</td>\n",
       "      <td>0.44</td>\n",
       "      <td>0.82</td>\n",
       "      <td>4.10</td>\n",
       "      <td>4</td>\n",
       "      <td>5.43</td>\n",
       "    </tr>\n",
       "    <tr>\n",
       "      <th>119</th>\n",
       "      <td>CD20.png</td>\n",
       "      <td>9.36</td>\n",
       "      <td>7.37</td>\n",
       "      <td>5.84</td>\n",
       "      <td>7.79</td>\n",
       "      <td>76.09</td>\n",
       "      <td>0.69</td>\n",
       "      <td>0.71</td>\n",
       "      <td>0.47</td>\n",
       "      <td>0.81</td>\n",
       "      <td>3.77</td>\n",
       "      <td>4</td>\n",
       "      <td>5.43</td>\n",
       "    </tr>\n",
       "  </tbody>\n",
       "</table>\n",
       "<p>120 rows × 13 columns</p>\n",
       "</div>"
      ],
      "text/plain": [
       "          Name    Red  Green   Blue   Gray  Contrast  Energy  Homogeneity  \\\n",
       "0    BAL11.png  14.22  10.22   6.14  10.95     98.80    0.69         0.71   \n",
       "1    BAL12.png  12.11   8.68   5.24   9.31     91.88    0.72         0.74   \n",
       "2    BAL13.png   9.49   6.79   4.06   7.28     60.24    0.76         0.78   \n",
       "3    BAL14.png  10.70   7.60   4.55   8.18     75.34    0.74         0.76   \n",
       "4    BAL15.png   9.77   6.98   4.23   7.50     67.35    0.75         0.77   \n",
       "..         ...    ...    ...    ...    ...       ...     ...          ...   \n",
       "115   CD16.png  19.60  16.13  14.09  16.93    187.53    0.66         0.68   \n",
       "116   CD17.png  10.34   8.11   6.52   8.59     95.70    0.69         0.72   \n",
       "117   CD18.png  11.42   8.95   7.02   9.47     93.11    0.67         0.69   \n",
       "118   CD19.png  10.79   8.41   6.69   8.93     87.49    0.66         0.70   \n",
       "119   CD20.png   9.36   7.37   5.84   7.79     76.09    0.69         0.71   \n",
       "\n",
       "      Asm  Correlation  Dissimilarity  Group    pH  \n",
       "0    0.48         0.86           4.32      1  4.86  \n",
       "1    0.52         0.85           3.92      1  4.86  \n",
       "2    0.58         0.86           3.02      1  4.86  \n",
       "3    0.54         0.85           3.44      1  4.86  \n",
       "4    0.57         0.85           3.09      1  4.86  \n",
       "..    ...          ...            ...    ...   ...  \n",
       "115  0.43         0.88           5.94      4  5.43  \n",
       "116  0.48         0.81           4.10      4  5.43  \n",
       "117  0.44         0.83           4.32      4  5.43  \n",
       "118  0.44         0.82           4.10      4  5.43  \n",
       "119  0.47         0.81           3.77      4  5.43  \n",
       "\n",
       "[120 rows x 13 columns]"
      ]
     },
     "execution_count": 111,
     "metadata": {},
     "output_type": "execute_result"
    }
   ],
   "source": [
    "df_Mobile = pd.read_excel('C:/Users/U5988116/Desktop/SeniorProject/Data/Database/Main/coffee_bean_Mobile_v2.xlsx')  \n",
    "df_Mobile"
   ]
  },
  {
   "cell_type": "code",
   "execution_count": 112,
   "metadata": {},
   "outputs": [],
   "source": [
    "# Iphone feature (Mobile)\n",
    "BAL_1 = df_Mobile.iloc[0:10,1:4] #BAL\n",
    "BPL_1 = df_Mobile.iloc[10:20,1:4] #BPL\n",
    "CM_2= df_Mobile.iloc[20:30,1:4] #CM\n",
    "BAM_3 = df_Mobile.iloc[50:60,1:4]#BAM\n",
    "BPM_3 = df_Mobile.iloc[60:70,1:4]#BPM\n",
    "BAD_4 = df_Mobile.iloc[90:100,1:4]#BAD\n",
    "PD_4 = df_Mobile.iloc[100:110,1:4]#PD\n",
    "PM_2= df_Mobile.iloc[30:40,1:4]#PM\n"
   ]
  },
  {
   "cell_type": "code",
   "execution_count": 113,
   "metadata": {},
   "outputs": [],
   "source": [
    "G1= pd.concat([BAL_1, BPL_1])\n",
    "feature_G1 = G1.values\n",
    "G2= pd.concat([CM_2,PM_2])\n",
    "feature_G2 = G2.values\n",
    "G3=pd.concat([BAM_3,BPM_3])\n",
    "feature_G3 = G3.values\n",
    "G4=pd.concat([BAD_4,PD_4])\n",
    "feature_G4 = G4.values"
   ]
  },
  {
   "cell_type": "code",
   "execution_count": 114,
   "metadata": {},
   "outputs": [],
   "source": [
    "df=df_Mobile\n",
    "Target_BAL_1 = df.iloc[0:10,11:12]#BAL\n",
    "Target_BPL_1 = df.iloc[10:20,11:12]#BPL\n",
    "Target_CM_2= df.iloc[20:30,11:12]#CM\n",
    "Target_BAM_3 = df.iloc[50:60,11:12]#BAM\n",
    "Target_BPM_3 = df.iloc[60:70,11:12]#BPM\n",
    "Target_BAD_4 = df.iloc[90:100,11:12]#BAD\n",
    "Target_PD_4 = df.iloc[100:110,11:12]#PD\n",
    "Target_PM_2= df.iloc[30:40,11:12]#PM\n"
   ]
  },
  {
   "cell_type": "code",
   "execution_count": 115,
   "metadata": {},
   "outputs": [],
   "source": [
    "G1_target = pd.concat([Target_BAL_1, Target_BPL_1]).values\n",
    "G2_target = pd.concat([Target_CM_2,Target_PM_2]).values\n",
    "G3_target = pd.concat([Target_BAM_3,Target_BPM_3]).values\n",
    "G4_target = pd.concat([Target_BAD_4,Target_PD_4]).values"
   ]
  },
  {
   "cell_type": "code",
   "execution_count": 116,
   "metadata": {},
   "outputs": [],
   "source": [
    "# # 80% training and 20% test\n",
    "# fea_train_G1, fea_test_G1, tar_train_G1, tar_test_G1 = train_test_split(feature_G1,G1_target, test_size=0.2, random_state=1)\n",
    "# fea_train_G2, fea_test_G2, tar_train_G2, tar_test_G2 = train_test_split(feature_G2,G2_target, test_size=0.2, random_state=1)\n",
    "# fea_train_G3, fea_test_G3, tar_train_G3, tar_test_G3 = train_test_split(feature_G3,G3_target, test_size=0.2, random_state=1)\n",
    "# fea_train_G4, fea_test_G4, tar_train_G4, tar_test_G4 = train_test_split(feature_G4,G4_target, test_size=0.2, random_state=1)"
   ]
  },
  {
   "cell_type": "code",
   "execution_count": 117,
   "metadata": {},
   "outputs": [],
   "source": [
    "main_feature_train = np.concatenate((feature_G1, feature_G2,feature_G3,feature_G4), axis=0)\n",
    "main_target_train=np.concatenate((G1_target, G2_target,G3_target,G4_target), axis=0)\n",
    "# main_feature_test = np.concatenate(( fea_test_G1,  fea_test_G2, fea_test_G3, fea_test_G4), axis=0)\n",
    "# main_target_test=np.concatenate((tar_test_G1, tar_test_G2,tar_test_G3,tar_test_G4), axis=0)"
   ]
  },
  {
   "cell_type": "code",
   "execution_count": 118,
   "metadata": {},
   "outputs": [
    {
     "data": {
      "text/plain": [
       "DecisionTreeClassifier(ccp_alpha=0.0, class_weight=None, criterion='gini',\n",
       "                       max_depth=8, max_features=3, max_leaf_nodes=None,\n",
       "                       min_impurity_decrease=0.0, min_impurity_split=None,\n",
       "                       min_samples_leaf=4, min_samples_split=2,\n",
       "                       min_weight_fraction_leaf=0.0, presort='deprecated',\n",
       "                       random_state=None, splitter='best')"
      ]
     },
     "execution_count": 118,
     "metadata": {},
     "output_type": "execute_result"
    }
   ],
   "source": [
    "dTree = DecisionTreeClassifier(max_depth =8, min_samples_leaf = 4, max_features = 3)\n",
    "dTree.fit(main_feature_train,main_target_train)"
   ]
  },
  {
   "cell_type": "code",
   "execution_count": 119,
   "metadata": {},
   "outputs": [],
   "source": [
    "  \n",
    "df_all =pd.read_excel('C:/Users/U5988116/Desktop/SeniorProject/Data/Database/Main/coffee_bean_Android.xlsx')   \n",
    "df = df_all"
   ]
  },
  {
   "cell_type": "code",
   "execution_count": 120,
   "metadata": {},
   "outputs": [],
   "source": [
    "# Andriod feature (Mobile)\n",
    "df_Mobile = df_all\n",
    "BAL_1 = df_Mobile.iloc[0:10,1:4] #BAL\n",
    "BPL_1 = df_Mobile.iloc[10:20,1:4] #BPL\n",
    "CM_2= df_Mobile.iloc[20:30,1:4] #CM\n",
    "BAM_3 = df_Mobile.iloc[50:60,1:4]#BAM\n",
    "BPM_3 = df_Mobile.iloc[60:70,1:4]#BPM\n",
    "BAD_4 = df_Mobile.iloc[90:100,1:4]#BAD\n",
    "PD_4 = df_Mobile.iloc[100:110,1:4]#PD\n",
    "PM_2= df_Mobile.iloc[30:40,1:4]#PM\n"
   ]
  },
  {
   "cell_type": "code",
   "execution_count": 121,
   "metadata": {},
   "outputs": [
    {
     "data": {
      "text/plain": [
       "20"
      ]
     },
     "execution_count": 121,
     "metadata": {},
     "output_type": "execute_result"
    }
   ],
   "source": [
    "G1= pd.concat([BAL_1, BPL_1])\n",
    "feature_G1 = G1.values\n",
    "G2= pd.concat([CM_2,PM_2])\n",
    "feature_G2 = G2.values\n",
    "G3=pd.concat([BAM_3,BPM_3])\n",
    "feature_G3 = G3.values\n",
    "G4=pd.concat([BAD_4,PD_4])\n",
    "feature_G4 = G4.values\n",
    "len(feature_G4)"
   ]
  },
  {
   "cell_type": "code",
   "execution_count": 122,
   "metadata": {},
   "outputs": [],
   "source": [
    "\n",
    "Target_BAL_1 = df_Mobile.iloc[0:10,11:12] #BAL\n",
    "Target_BPL_1 = df_Mobile.iloc[10:20,11:12] #BPL\n",
    "Target_CM_2= df_Mobile.iloc[20:30,11:12] #CM\n",
    "Target_BAM_3 = df_Mobile.iloc[50:60,11:12]#BAM\n",
    "Target_BPM_3 = df_Mobile.iloc[60:70,11:12]#BPM\n",
    "Target_BAD_4 = df_Mobile.iloc[90:100,11:12]#BAD\n",
    "Target_PD_4 = df_Mobile.iloc[100:110,11:12]#PD\n",
    "Target_PM_2= df_Mobile.iloc[30:40,11:12]#PM"
   ]
  },
  {
   "cell_type": "code",
   "execution_count": 123,
   "metadata": {},
   "outputs": [
    {
     "data": {
      "text/plain": [
       "array([[4],\n",
       "       [4],\n",
       "       [4],\n",
       "       [4],\n",
       "       [4],\n",
       "       [4],\n",
       "       [4],\n",
       "       [4],\n",
       "       [4],\n",
       "       [4],\n",
       "       [4],\n",
       "       [4],\n",
       "       [4],\n",
       "       [4],\n",
       "       [4],\n",
       "       [4],\n",
       "       [4],\n",
       "       [4],\n",
       "       [4],\n",
       "       [4]], dtype=int64)"
      ]
     },
     "execution_count": 123,
     "metadata": {},
     "output_type": "execute_result"
    }
   ],
   "source": [
    "G1_target = pd.concat([Target_BAL_1, Target_BPL_1]).values\n",
    "G2_target = pd.concat([Target_CM_2,Target_PM_2]).values\n",
    "G3_target = pd.concat([Target_BAM_3,Target_BPM_3]).values\n",
    "G4_target = pd.concat([Target_BAD_4,Target_PD_4]).values\n",
    "G4_target"
   ]
  },
  {
   "cell_type": "code",
   "execution_count": 124,
   "metadata": {
    "scrolled": true
   },
   "outputs": [
    {
     "data": {
      "text/plain": [
       "array([[1],\n",
       "       [1],\n",
       "       [1],\n",
       "       [1],\n",
       "       [1],\n",
       "       [1],\n",
       "       [1],\n",
       "       [1],\n",
       "       [1],\n",
       "       [1],\n",
       "       [1],\n",
       "       [1],\n",
       "       [1],\n",
       "       [1],\n",
       "       [1],\n",
       "       [1],\n",
       "       [1],\n",
       "       [1],\n",
       "       [1],\n",
       "       [1],\n",
       "       [2],\n",
       "       [2],\n",
       "       [2],\n",
       "       [2],\n",
       "       [2],\n",
       "       [2],\n",
       "       [2],\n",
       "       [2],\n",
       "       [2],\n",
       "       [2],\n",
       "       [2],\n",
       "       [2],\n",
       "       [2],\n",
       "       [2],\n",
       "       [2],\n",
       "       [2],\n",
       "       [2],\n",
       "       [2],\n",
       "       [2],\n",
       "       [2],\n",
       "       [3],\n",
       "       [3],\n",
       "       [3],\n",
       "       [3],\n",
       "       [3],\n",
       "       [3],\n",
       "       [3],\n",
       "       [3],\n",
       "       [3],\n",
       "       [3],\n",
       "       [3],\n",
       "       [3],\n",
       "       [3],\n",
       "       [3],\n",
       "       [3],\n",
       "       [3],\n",
       "       [3],\n",
       "       [3],\n",
       "       [3],\n",
       "       [3],\n",
       "       [4],\n",
       "       [4],\n",
       "       [4],\n",
       "       [4],\n",
       "       [4],\n",
       "       [4],\n",
       "       [4],\n",
       "       [4],\n",
       "       [4],\n",
       "       [4],\n",
       "       [4],\n",
       "       [4],\n",
       "       [4],\n",
       "       [4],\n",
       "       [4],\n",
       "       [4],\n",
       "       [4],\n",
       "       [4],\n",
       "       [4],\n",
       "       [4]], dtype=int64)"
      ]
     },
     "execution_count": 124,
     "metadata": {},
     "output_type": "execute_result"
    }
   ],
   "source": [
    "\n",
    "# main_feature_train = np.concatenate((fea_train_G1, fea_train_G2,fea_train_G3,fea_train_G4), axis=0)\n",
    "# main_target_train=np.concatenate((tar_train_G1, tar_train_G2,tar_train_G3,tar_train_G4), axis=0)\n",
    "main_feature_test = np.concatenate(( feature_G1,feature_G2,feature_G3,feature_G4), axis=0)\n",
    "main_target_test=np.concatenate((G1_target,G2_target,G3_target,G4_target), axis=0)\n",
    "main_target_test\n"
   ]
  },
  {
   "cell_type": "code",
   "execution_count": 125,
   "metadata": {},
   "outputs": [
    {
     "data": {
      "text/plain": [
       "array([4, 4, 3, 4, 4, 4, 4, 4, 4, 4, 2, 4, 4, 4, 4, 4, 4, 4, 4, 4, 4, 4,\n",
       "       4, 4, 4, 4, 4, 4, 4, 4, 2, 2, 2, 2, 2, 2, 2, 2, 4, 4, 4, 4, 4, 4,\n",
       "       4, 4, 4, 4, 4, 4, 4, 4, 4, 4, 4, 4, 4, 4, 4, 4, 4, 4, 4, 4, 4, 4,\n",
       "       4, 4, 4, 4, 4, 4, 4, 4, 4, 2, 2, 4, 4, 4], dtype=int64)"
      ]
     },
     "execution_count": 125,
     "metadata": {},
     "output_type": "execute_result"
    }
   ],
   "source": [
    "MOBILE_TRAIN_DSLR_TEST = dTree.predict(main_feature_test)\n",
    "MOBILE_TRAIN_DSLR_TEST"
   ]
  },
  {
   "cell_type": "code",
   "execution_count": 126,
   "metadata": {},
   "outputs": [
    {
     "name": "stdout",
     "output_type": "stream",
     "text": [
      "\n",
      "Desicion Tree\n",
      "\n",
      "Evaluation of DTree Model : \n",
      "               precision    recall  f1-score   support\n",
      "\n",
      "           1       0.00      0.00      0.00        20\n",
      "           2       0.73      0.40      0.52        20\n",
      "           3       0.00      0.00      0.00        20\n",
      "           4       0.26      0.90      0.41        20\n",
      "\n",
      "    accuracy                           0.33        80\n",
      "   macro avg       0.25      0.33      0.23        80\n",
      "weighted avg       0.25      0.33      0.23        80\n",
      "\n"
     ]
    },
    {
     "name": "stderr",
     "output_type": "stream",
     "text": [
      "c:\\users\\u5988116\\appdata\\local\\programs\\python\\python37\\lib\\site-packages\\sklearn\\metrics\\_classification.py:1272: UndefinedMetricWarning: Precision and F-score are ill-defined and being set to 0.0 in labels with no predicted samples. Use `zero_division` parameter to control this behavior.\n",
      "  _warn_prf(average, modifier, msg_start, len(result))\n"
     ]
    }
   ],
   "source": [
    "\n",
    "print(\"\\nDesicion Tree\")\n",
    "\n",
    "print(\"\\nEvaluation of DTree Model : \\n\", classification_report(main_target_test, MOBILE_TRAIN_DSLR_TEST))"
   ]
  },
  {
   "cell_type": "code",
   "execution_count": null,
   "metadata": {},
   "outputs": [],
   "source": []
  },
  {
   "cell_type": "code",
   "execution_count": null,
   "metadata": {},
   "outputs": [],
   "source": []
  },
  {
   "cell_type": "code",
   "execution_count": null,
   "metadata": {},
   "outputs": [],
   "source": []
  },
  {
   "cell_type": "code",
   "execution_count": null,
   "metadata": {},
   "outputs": [],
   "source": []
  },
  {
   "cell_type": "code",
   "execution_count": null,
   "metadata": {},
   "outputs": [],
   "source": []
  }
 ],
 "metadata": {
  "kernelspec": {
   "display_name": "Python 3",
   "language": "python",
   "name": "python3"
  },
  "language_info": {
   "codemirror_mode": {
    "name": "ipython",
    "version": 3
   },
   "file_extension": ".py",
   "mimetype": "text/x-python",
   "name": "python",
   "nbconvert_exporter": "python",
   "pygments_lexer": "ipython3",
   "version": "3.7.6"
  }
 },
 "nbformat": 4,
 "nbformat_minor": 4
}
