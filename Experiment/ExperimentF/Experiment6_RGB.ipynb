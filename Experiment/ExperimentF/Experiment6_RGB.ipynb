{
 "cells": [
  {
   "cell_type": "code",
   "execution_count": 56,
   "metadata": {},
   "outputs": [],
   "source": [
    "import numpy as np \n",
    "import pandas as pd \n",
    "from sklearn.metrics import confusion_matrix \n",
    "from sklearn.model_selection import train_test_split \n",
    "from sklearn.tree import DecisionTreeClassifier \n",
    "from sklearn.metrics import accuracy_score \n",
    "from sklearn.metrics import classification_report "
   ]
  },
  {
   "cell_type": "code",
   "execution_count": 57,
   "metadata": {},
   "outputs": [
    {
     "data": {
      "text/html": [
       "<div>\n",
       "<style scoped>\n",
       "    .dataframe tbody tr th:only-of-type {\n",
       "        vertical-align: middle;\n",
       "    }\n",
       "\n",
       "    .dataframe tbody tr th {\n",
       "        vertical-align: top;\n",
       "    }\n",
       "\n",
       "    .dataframe thead th {\n",
       "        text-align: right;\n",
       "    }\n",
       "</style>\n",
       "<table border=\"1\" class=\"dataframe\">\n",
       "  <thead>\n",
       "    <tr style=\"text-align: right;\">\n",
       "      <th></th>\n",
       "      <th>Name</th>\n",
       "      <th>Red</th>\n",
       "      <th>Green</th>\n",
       "      <th>Blue</th>\n",
       "      <th>Gray</th>\n",
       "      <th>Contrast</th>\n",
       "      <th>Energy</th>\n",
       "      <th>Homogeneity</th>\n",
       "      <th>Asm</th>\n",
       "      <th>Correlation</th>\n",
       "      <th>Dissimilarity</th>\n",
       "      <th>Group</th>\n",
       "      <th>pH</th>\n",
       "    </tr>\n",
       "  </thead>\n",
       "  <tbody>\n",
       "    <tr>\n",
       "      <th>0</th>\n",
       "      <td>BAL21.png</td>\n",
       "      <td>4.90</td>\n",
       "      <td>4.04</td>\n",
       "      <td>3.97</td>\n",
       "      <td>4.29</td>\n",
       "      <td>29.05</td>\n",
       "      <td>0.85</td>\n",
       "      <td>0.87</td>\n",
       "      <td>0.73</td>\n",
       "      <td>0.90</td>\n",
       "      <td>1.40</td>\n",
       "      <td>1</td>\n",
       "      <td>4.86</td>\n",
       "    </tr>\n",
       "    <tr>\n",
       "      <th>1</th>\n",
       "      <td>BAL22.png</td>\n",
       "      <td>5.32</td>\n",
       "      <td>4.56</td>\n",
       "      <td>4.41</td>\n",
       "      <td>4.76</td>\n",
       "      <td>31.18</td>\n",
       "      <td>0.85</td>\n",
       "      <td>0.87</td>\n",
       "      <td>0.73</td>\n",
       "      <td>0.91</td>\n",
       "      <td>1.43</td>\n",
       "      <td>1</td>\n",
       "      <td>4.86</td>\n",
       "    </tr>\n",
       "    <tr>\n",
       "      <th>2</th>\n",
       "      <td>BAL23.png</td>\n",
       "      <td>5.65</td>\n",
       "      <td>4.84</td>\n",
       "      <td>4.69</td>\n",
       "      <td>5.06</td>\n",
       "      <td>38.00</td>\n",
       "      <td>0.84</td>\n",
       "      <td>0.86</td>\n",
       "      <td>0.71</td>\n",
       "      <td>0.90</td>\n",
       "      <td>1.66</td>\n",
       "      <td>1</td>\n",
       "      <td>4.86</td>\n",
       "    </tr>\n",
       "    <tr>\n",
       "      <th>3</th>\n",
       "      <td>BAL24.png</td>\n",
       "      <td>6.06</td>\n",
       "      <td>5.20</td>\n",
       "      <td>5.04</td>\n",
       "      <td>5.44</td>\n",
       "      <td>42.86</td>\n",
       "      <td>0.84</td>\n",
       "      <td>0.86</td>\n",
       "      <td>0.70</td>\n",
       "      <td>0.89</td>\n",
       "      <td>1.77</td>\n",
       "      <td>1</td>\n",
       "      <td>4.86</td>\n",
       "    </tr>\n",
       "    <tr>\n",
       "      <th>4</th>\n",
       "      <td>BAL25.png</td>\n",
       "      <td>6.05</td>\n",
       "      <td>5.20</td>\n",
       "      <td>5.05</td>\n",
       "      <td>5.43</td>\n",
       "      <td>41.67</td>\n",
       "      <td>0.84</td>\n",
       "      <td>0.86</td>\n",
       "      <td>0.71</td>\n",
       "      <td>0.90</td>\n",
       "      <td>1.68</td>\n",
       "      <td>1</td>\n",
       "      <td>4.86</td>\n",
       "    </tr>\n",
       "    <tr>\n",
       "      <th>...</th>\n",
       "      <td>...</td>\n",
       "      <td>...</td>\n",
       "      <td>...</td>\n",
       "      <td>...</td>\n",
       "      <td>...</td>\n",
       "      <td>...</td>\n",
       "      <td>...</td>\n",
       "      <td>...</td>\n",
       "      <td>...</td>\n",
       "      <td>...</td>\n",
       "      <td>...</td>\n",
       "      <td>...</td>\n",
       "      <td>...</td>\n",
       "    </tr>\n",
       "    <tr>\n",
       "      <th>115</th>\n",
       "      <td>CD26.png</td>\n",
       "      <td>9.66</td>\n",
       "      <td>8.99</td>\n",
       "      <td>9.35</td>\n",
       "      <td>9.24</td>\n",
       "      <td>65.77</td>\n",
       "      <td>0.76</td>\n",
       "      <td>0.79</td>\n",
       "      <td>0.58</td>\n",
       "      <td>0.91</td>\n",
       "      <td>2.64</td>\n",
       "      <td>4</td>\n",
       "      <td>5.43</td>\n",
       "    </tr>\n",
       "    <tr>\n",
       "      <th>116</th>\n",
       "      <td>CD27.png</td>\n",
       "      <td>9.60</td>\n",
       "      <td>8.83</td>\n",
       "      <td>9.11</td>\n",
       "      <td>9.09</td>\n",
       "      <td>60.54</td>\n",
       "      <td>0.73</td>\n",
       "      <td>0.76</td>\n",
       "      <td>0.53</td>\n",
       "      <td>0.90</td>\n",
       "      <td>2.70</td>\n",
       "      <td>4</td>\n",
       "      <td>5.43</td>\n",
       "    </tr>\n",
       "    <tr>\n",
       "      <th>117</th>\n",
       "      <td>CD28.png</td>\n",
       "      <td>9.59</td>\n",
       "      <td>8.94</td>\n",
       "      <td>9.26</td>\n",
       "      <td>9.17</td>\n",
       "      <td>63.89</td>\n",
       "      <td>0.73</td>\n",
       "      <td>0.76</td>\n",
       "      <td>0.53</td>\n",
       "      <td>0.90</td>\n",
       "      <td>2.75</td>\n",
       "      <td>4</td>\n",
       "      <td>5.43</td>\n",
       "    </tr>\n",
       "    <tr>\n",
       "      <th>118</th>\n",
       "      <td>CD29.png</td>\n",
       "      <td>10.01</td>\n",
       "      <td>9.35</td>\n",
       "      <td>9.66</td>\n",
       "      <td>9.58</td>\n",
       "      <td>74.65</td>\n",
       "      <td>0.72</td>\n",
       "      <td>0.76</td>\n",
       "      <td>0.52</td>\n",
       "      <td>0.89</td>\n",
       "      <td>3.00</td>\n",
       "      <td>4</td>\n",
       "      <td>5.43</td>\n",
       "    </tr>\n",
       "    <tr>\n",
       "      <th>119</th>\n",
       "      <td>CD30.png</td>\n",
       "      <td>8.60</td>\n",
       "      <td>8.02</td>\n",
       "      <td>8.29</td>\n",
       "      <td>8.22</td>\n",
       "      <td>56.27</td>\n",
       "      <td>0.75</td>\n",
       "      <td>0.79</td>\n",
       "      <td>0.57</td>\n",
       "      <td>0.90</td>\n",
       "      <td>2.45</td>\n",
       "      <td>4</td>\n",
       "      <td>5.43</td>\n",
       "    </tr>\n",
       "  </tbody>\n",
       "</table>\n",
       "<p>120 rows × 13 columns</p>\n",
       "</div>"
      ],
      "text/plain": [
       "          Name    Red  Green  Blue  Gray  Contrast  Energy  Homogeneity   Asm  \\\n",
       "0    BAL21.png   4.90   4.04  3.97  4.29     29.05    0.85         0.87  0.73   \n",
       "1    BAL22.png   5.32   4.56  4.41  4.76     31.18    0.85         0.87  0.73   \n",
       "2    BAL23.png   5.65   4.84  4.69  5.06     38.00    0.84         0.86  0.71   \n",
       "3    BAL24.png   6.06   5.20  5.04  5.44     42.86    0.84         0.86  0.70   \n",
       "4    BAL25.png   6.05   5.20  5.05  5.43     41.67    0.84         0.86  0.71   \n",
       "..         ...    ...    ...   ...   ...       ...     ...          ...   ...   \n",
       "115   CD26.png   9.66   8.99  9.35  9.24     65.77    0.76         0.79  0.58   \n",
       "116   CD27.png   9.60   8.83  9.11  9.09     60.54    0.73         0.76  0.53   \n",
       "117   CD28.png   9.59   8.94  9.26  9.17     63.89    0.73         0.76  0.53   \n",
       "118   CD29.png  10.01   9.35  9.66  9.58     74.65    0.72         0.76  0.52   \n",
       "119   CD30.png   8.60   8.02  8.29  8.22     56.27    0.75         0.79  0.57   \n",
       "\n",
       "     Correlation  Dissimilarity  Group    pH  \n",
       "0           0.90           1.40      1  4.86  \n",
       "1           0.91           1.43      1  4.86  \n",
       "2           0.90           1.66      1  4.86  \n",
       "3           0.89           1.77      1  4.86  \n",
       "4           0.90           1.68      1  4.86  \n",
       "..           ...            ...    ...   ...  \n",
       "115         0.91           2.64      4  5.43  \n",
       "116         0.90           2.70      4  5.43  \n",
       "117         0.90           2.75      4  5.43  \n",
       "118         0.89           3.00      4  5.43  \n",
       "119         0.90           2.45      4  5.43  \n",
       "\n",
       "[120 rows x 13 columns]"
      ]
     },
     "execution_count": 57,
     "metadata": {},
     "output_type": "execute_result"
    }
   ],
   "source": [
    "df_Mobile = pd.read_excel('C:/Users/U5988116/Desktop/SeniorProject/Data/Database/Main/coffee_bean_Android.xlsx')  \n",
    "df_Mobile"
   ]
  },
  {
   "cell_type": "code",
   "execution_count": 58,
   "metadata": {},
   "outputs": [],
   "source": [
    "# Iphone feature (Mobile)\n",
    "BAL_1 = df_Mobile.iloc[0:10,1:4] #BAL\n",
    "BPL_1 = df_Mobile.iloc[10:20,1:4] #BPL\n",
    "CM_2= df_Mobile.iloc[20:30,1:4] #CM\n",
    "BAM_3 = df_Mobile.iloc[50:60,1:4]#BAM\n",
    "BPM_3 = df_Mobile.iloc[60:70,1:4]#BPM\n",
    "BAD_4 = df_Mobile.iloc[90:100,1:4]#BAD\n",
    "PD_4 = df_Mobile.iloc[100:110,1:4]#PD\n",
    "PM_2= df_Mobile.iloc[30:40,1:4]#PM\n"
   ]
  },
  {
   "cell_type": "code",
   "execution_count": 59,
   "metadata": {},
   "outputs": [],
   "source": [
    "G1= pd.concat([BAL_1, BPL_1])\n",
    "feature_G1 = G1.values\n",
    "G2= pd.concat([CM_2,PM_2])\n",
    "feature_G2 = G2.values\n",
    "G3=pd.concat([BAM_3,BPM_3])\n",
    "feature_G3 = G3.values\n",
    "G4=pd.concat([BAD_4,PD_4])\n",
    "feature_G4 = G4.values"
   ]
  },
  {
   "cell_type": "code",
   "execution_count": 60,
   "metadata": {},
   "outputs": [],
   "source": [
    "df=df_Mobile\n",
    "Target_BAL_1 = df.iloc[0:10,11:12]#BAL\n",
    "Target_BPL_1 = df.iloc[10:20,11:12]#BPL\n",
    "Target_CM_2= df.iloc[20:30,11:12]#CM\n",
    "Target_BAM_3 = df.iloc[50:60,11:12]#BAM\n",
    "Target_BPM_3 = df.iloc[60:70,11:12]#BPM\n",
    "Target_BAD_4 = df.iloc[90:100,11:12]#BAD\n",
    "Target_PD_4 = df.iloc[100:110,11:12]#PD\n",
    "Target_PM_2= df.iloc[30:40,11:12]#PM\n"
   ]
  },
  {
   "cell_type": "code",
   "execution_count": 61,
   "metadata": {},
   "outputs": [],
   "source": [
    "G1_target = pd.concat([Target_BAL_1, Target_BPL_1]).values\n",
    "G2_target = pd.concat([Target_CM_2,Target_PM_2]).values\n",
    "G3_target = pd.concat([Target_BAM_3,Target_BPM_3]).values\n",
    "G4_target = pd.concat([Target_BAD_4,Target_PD_4]).values"
   ]
  },
  {
   "cell_type": "code",
   "execution_count": 62,
   "metadata": {},
   "outputs": [],
   "source": [
    "# # 80% training and 20% test\n",
    "# fea_train_G1, fea_test_G1, tar_train_G1, tar_test_G1 = train_test_split(feature_G1,G1_target, test_size=0.2, random_state=1)\n",
    "# fea_train_G2, fea_test_G2, tar_train_G2, tar_test_G2 = train_test_split(feature_G2,G2_target, test_size=0.2, random_state=1)\n",
    "# fea_train_G3, fea_test_G3, tar_train_G3, tar_test_G3 = train_test_split(feature_G3,G3_target, test_size=0.2, random_state=1)\n",
    "# fea_train_G4, fea_test_G4, tar_train_G4, tar_test_G4 = train_test_split(feature_G4,G4_target, test_size=0.2, random_state=1)"
   ]
  },
  {
   "cell_type": "code",
   "execution_count": 63,
   "metadata": {},
   "outputs": [],
   "source": [
    "main_feature_train = np.concatenate((feature_G1, feature_G2,feature_G3,feature_G4), axis=0)\n",
    "main_target_train=np.concatenate((G1_target, G2_target,G3_target,G4_target), axis=0)\n",
    "# main_feature_test = np.concatenate(( fea_test_G1,  fea_test_G2, fea_test_G3, fea_test_G4), axis=0)\n",
    "# main_target_test=np.concatenate((tar_test_G1, tar_test_G2,tar_test_G3,tar_test_G4), axis=0)"
   ]
  },
  {
   "cell_type": "code",
   "execution_count": 64,
   "metadata": {},
   "outputs": [
    {
     "data": {
      "text/plain": [
       "DecisionTreeClassifier(ccp_alpha=0.0, class_weight=None, criterion='gini',\n",
       "                       max_depth=30, max_features=3, max_leaf_nodes=None,\n",
       "                       min_impurity_decrease=0.0, min_impurity_split=None,\n",
       "                       min_samples_leaf=4, min_samples_split=2,\n",
       "                       min_weight_fraction_leaf=0.0, presort='deprecated',\n",
       "                       random_state=None, splitter='best')"
      ]
     },
     "execution_count": 64,
     "metadata": {},
     "output_type": "execute_result"
    }
   ],
   "source": [
    "dTree = DecisionTreeClassifier(max_depth =30, min_samples_leaf = 4, max_features = 3)\n",
    "dTree.fit(main_feature_train,main_target_train)"
   ]
  },
  {
   "cell_type": "code",
   "execution_count": 65,
   "metadata": {},
   "outputs": [],
   "source": [
    "  \n",
    "df_all =pd.read_excel('C:/Users/U5988116/Desktop/SeniorProject/Data/Database/Main/coffee_bean_Mobile_v2.xlsx')   \n",
    "df = df_all"
   ]
  },
  {
   "cell_type": "code",
   "execution_count": 66,
   "metadata": {},
   "outputs": [],
   "source": [
    "# Andriod feature (Mobile)\n",
    "df_Mobile = df_all\n",
    "BAL_1 = df_Mobile.iloc[0:10,1:4] #BAL\n",
    "BPL_1 = df_Mobile.iloc[10:20,1:4] #BPL\n",
    "CM_2= df_Mobile.iloc[20:30,1:4] #CM\n",
    "BAM_3 = df_Mobile.iloc[50:60,1:4]#BAM\n",
    "BPM_3 = df_Mobile.iloc[60:70,1:4]#BPM\n",
    "BAD_4 = df_Mobile.iloc[90:100,1:4]#BAD\n",
    "PD_4 = df_Mobile.iloc[100:110,1:4]#PD\n",
    "PM_2= df_Mobile.iloc[30:40,1:4]#PM\n"
   ]
  },
  {
   "cell_type": "code",
   "execution_count": 67,
   "metadata": {},
   "outputs": [
    {
     "data": {
      "text/plain": [
       "20"
      ]
     },
     "execution_count": 67,
     "metadata": {},
     "output_type": "execute_result"
    }
   ],
   "source": [
    "G1= pd.concat([BAL_1, BPL_1])\n",
    "feature_G1 = G1.values\n",
    "G2= pd.concat([CM_2,PM_2])\n",
    "feature_G2 = G2.values\n",
    "G3=pd.concat([BAM_3,BPM_3])\n",
    "feature_G3 = G3.values\n",
    "G4=pd.concat([BAD_4,PD_4])\n",
    "feature_G4 = G4.values\n",
    "len(feature_G4)"
   ]
  },
  {
   "cell_type": "code",
   "execution_count": 68,
   "metadata": {},
   "outputs": [],
   "source": [
    "\n",
    "Target_BAL_1 = df_Mobile.iloc[0:10,11:12] #BAL\n",
    "Target_BPL_1 = df_Mobile.iloc[10:20,11:12] #BPL\n",
    "Target_CM_2= df_Mobile.iloc[20:30,11:12] #CM\n",
    "Target_BAM_3 = df_Mobile.iloc[50:60,11:12]#BAM\n",
    "Target_BPM_3 = df_Mobile.iloc[60:70,11:12]#BPM\n",
    "Target_BAD_4 = df_Mobile.iloc[90:100,11:12]#BAD\n",
    "Target_PD_4 = df_Mobile.iloc[100:110,11:12]#PD\n",
    "Target_PM_2= df_Mobile.iloc[30:40,11:12]#PM"
   ]
  },
  {
   "cell_type": "code",
   "execution_count": 69,
   "metadata": {},
   "outputs": [
    {
     "data": {
      "text/plain": [
       "array([[4],\n",
       "       [4],\n",
       "       [4],\n",
       "       [4],\n",
       "       [4],\n",
       "       [4],\n",
       "       [4],\n",
       "       [4],\n",
       "       [4],\n",
       "       [4],\n",
       "       [4],\n",
       "       [4],\n",
       "       [4],\n",
       "       [4],\n",
       "       [4],\n",
       "       [4],\n",
       "       [4],\n",
       "       [4],\n",
       "       [4],\n",
       "       [4]], dtype=int64)"
      ]
     },
     "execution_count": 69,
     "metadata": {},
     "output_type": "execute_result"
    }
   ],
   "source": [
    "G1_target = pd.concat([Target_BAL_1, Target_BPL_1]).values\n",
    "G2_target = pd.concat([Target_CM_2,Target_PM_2]).values\n",
    "G3_target = pd.concat([Target_BAM_3,Target_BPM_3]).values\n",
    "G4_target = pd.concat([Target_BAD_4,Target_PD_4]).values\n",
    "G4_target"
   ]
  },
  {
   "cell_type": "code",
   "execution_count": 70,
   "metadata": {
    "scrolled": true
   },
   "outputs": [
    {
     "data": {
      "text/plain": [
       "array([[1],\n",
       "       [1],\n",
       "       [1],\n",
       "       [1],\n",
       "       [1],\n",
       "       [1],\n",
       "       [1],\n",
       "       [1],\n",
       "       [1],\n",
       "       [1],\n",
       "       [1],\n",
       "       [1],\n",
       "       [1],\n",
       "       [1],\n",
       "       [1],\n",
       "       [1],\n",
       "       [1],\n",
       "       [1],\n",
       "       [1],\n",
       "       [1],\n",
       "       [2],\n",
       "       [2],\n",
       "       [2],\n",
       "       [2],\n",
       "       [2],\n",
       "       [2],\n",
       "       [2],\n",
       "       [2],\n",
       "       [2],\n",
       "       [2],\n",
       "       [2],\n",
       "       [2],\n",
       "       [2],\n",
       "       [2],\n",
       "       [2],\n",
       "       [2],\n",
       "       [2],\n",
       "       [2],\n",
       "       [2],\n",
       "       [2],\n",
       "       [3],\n",
       "       [3],\n",
       "       [3],\n",
       "       [3],\n",
       "       [3],\n",
       "       [3],\n",
       "       [3],\n",
       "       [3],\n",
       "       [3],\n",
       "       [3],\n",
       "       [3],\n",
       "       [3],\n",
       "       [3],\n",
       "       [3],\n",
       "       [3],\n",
       "       [3],\n",
       "       [3],\n",
       "       [3],\n",
       "       [3],\n",
       "       [3],\n",
       "       [4],\n",
       "       [4],\n",
       "       [4],\n",
       "       [4],\n",
       "       [4],\n",
       "       [4],\n",
       "       [4],\n",
       "       [4],\n",
       "       [4],\n",
       "       [4],\n",
       "       [4],\n",
       "       [4],\n",
       "       [4],\n",
       "       [4],\n",
       "       [4],\n",
       "       [4],\n",
       "       [4],\n",
       "       [4],\n",
       "       [4],\n",
       "       [4]], dtype=int64)"
      ]
     },
     "execution_count": 70,
     "metadata": {},
     "output_type": "execute_result"
    }
   ],
   "source": [
    "\n",
    "# main_feature_train = np.concatenate((fea_train_G1, fea_train_G2,fea_train_G3,fea_train_G4), axis=0)\n",
    "# main_target_train=np.concatenate((tar_train_G1, tar_train_G2,tar_train_G3,tar_train_G4), axis=0)\n",
    "main_feature_test = np.concatenate(( feature_G1,feature_G2,feature_G3,feature_G4), axis=0)\n",
    "main_target_test=np.concatenate((G1_target,G2_target,G3_target,G4_target), axis=0)\n",
    "main_target_test\n"
   ]
  },
  {
   "cell_type": "code",
   "execution_count": 71,
   "metadata": {},
   "outputs": [
    {
     "data": {
      "text/plain": [
       "array([1, 1, 1, 1, 1, 1, 1, 1, 1, 1, 1, 1, 1, 1, 1, 1, 1, 1, 1, 1, 1, 1,\n",
       "       1, 1, 1, 1, 1, 1, 1, 1, 1, 1, 1, 1, 1, 1, 1, 1, 1, 1, 1, 1, 1, 1,\n",
       "       1, 1, 1, 1, 1, 1, 1, 1, 1, 1, 1, 1, 1, 1, 1, 1, 1, 1, 1, 1, 1, 2,\n",
       "       1, 2, 1, 2, 1, 1, 1, 1, 1, 1, 1, 1, 1, 1], dtype=int64)"
      ]
     },
     "execution_count": 71,
     "metadata": {},
     "output_type": "execute_result"
    }
   ],
   "source": [
    "MOBILE_TRAIN_DSLR_TEST = dTree.predict(main_feature_test)\n",
    "MOBILE_TRAIN_DSLR_TEST"
   ]
  },
  {
   "cell_type": "code",
   "execution_count": 72,
   "metadata": {},
   "outputs": [
    {
     "name": "stdout",
     "output_type": "stream",
     "text": [
      "\n",
      "Desicion Tree\n",
      "\n",
      "Evaluation of DTree Model : \n",
      "               precision    recall  f1-score   support\n",
      "\n",
      "           1       0.26      1.00      0.41        20\n",
      "           2       0.00      0.00      0.00        20\n",
      "           3       0.00      0.00      0.00        20\n",
      "           4       0.00      0.00      0.00        20\n",
      "\n",
      "    accuracy                           0.25        80\n",
      "   macro avg       0.06      0.25      0.10        80\n",
      "weighted avg       0.06      0.25      0.10        80\n",
      "\n"
     ]
    },
    {
     "name": "stderr",
     "output_type": "stream",
     "text": [
      "c:\\users\\u5988116\\appdata\\local\\programs\\python\\python37\\lib\\site-packages\\sklearn\\metrics\\_classification.py:1272: UndefinedMetricWarning: Precision and F-score are ill-defined and being set to 0.0 in labels with no predicted samples. Use `zero_division` parameter to control this behavior.\n",
      "  _warn_prf(average, modifier, msg_start, len(result))\n"
     ]
    }
   ],
   "source": [
    "\n",
    "print(\"\\nDesicion Tree\")\n",
    "\n",
    "print(\"\\nEvaluation of DTree Model : \\n\", classification_report(main_target_test, MOBILE_TRAIN_DSLR_TEST))"
   ]
  },
  {
   "cell_type": "code",
   "execution_count": null,
   "metadata": {},
   "outputs": [],
   "source": []
  },
  {
   "cell_type": "code",
   "execution_count": null,
   "metadata": {},
   "outputs": [],
   "source": []
  },
  {
   "cell_type": "code",
   "execution_count": null,
   "metadata": {},
   "outputs": [],
   "source": []
  },
  {
   "cell_type": "code",
   "execution_count": null,
   "metadata": {},
   "outputs": [],
   "source": []
  },
  {
   "cell_type": "code",
   "execution_count": null,
   "metadata": {},
   "outputs": [],
   "source": []
  },
  {
   "cell_type": "code",
   "execution_count": null,
   "metadata": {},
   "outputs": [],
   "source": []
  },
  {
   "cell_type": "code",
   "execution_count": null,
   "metadata": {},
   "outputs": [],
   "source": []
  },
  {
   "cell_type": "code",
   "execution_count": null,
   "metadata": {},
   "outputs": [],
   "source": []
  },
  {
   "cell_type": "code",
   "execution_count": null,
   "metadata": {},
   "outputs": [],
   "source": []
  }
 ],
 "metadata": {
  "kernelspec": {
   "display_name": "Python 3",
   "language": "python",
   "name": "python3"
  },
  "language_info": {
   "codemirror_mode": {
    "name": "ipython",
    "version": 3
   },
   "file_extension": ".py",
   "mimetype": "text/x-python",
   "name": "python",
   "nbconvert_exporter": "python",
   "pygments_lexer": "ipython3",
   "version": "3.7.6"
  }
 },
 "nbformat": 4,
 "nbformat_minor": 4
}
