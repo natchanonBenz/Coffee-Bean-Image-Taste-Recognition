{
 "cells": [
  {
   "cell_type": "code",
   "execution_count": 1,
   "metadata": {},
   "outputs": [],
   "source": [
    "#Train camera 80 test phone 20\n",
    "#RGB"
   ]
  },
  {
   "cell_type": "code",
   "execution_count": 2,
   "metadata": {},
   "outputs": [],
   "source": [
    "import numpy as np \n",
    "import pandas as pd \n",
    "from sklearn.metrics import confusion_matrix \n",
    "from sklearn.model_selection import train_test_split \n",
    "from sklearn.tree import DecisionTreeClassifier \n",
    "from sklearn.metrics import accuracy_score \n",
    "from sklearn.metrics import classification_report "
   ]
  },
  {
   "cell_type": "code",
   "execution_count": 3,
   "metadata": {
    "scrolled": true
   },
   "outputs": [
    {
     "data": {
      "text/html": [
       "<div>\n",
       "<style scoped>\n",
       "    .dataframe tbody tr th:only-of-type {\n",
       "        vertical-align: middle;\n",
       "    }\n",
       "\n",
       "    .dataframe tbody tr th {\n",
       "        vertical-align: top;\n",
       "    }\n",
       "\n",
       "    .dataframe thead th {\n",
       "        text-align: right;\n",
       "    }\n",
       "</style>\n",
       "<table border=\"1\" class=\"dataframe\">\n",
       "  <thead>\n",
       "    <tr style=\"text-align: right;\">\n",
       "      <th></th>\n",
       "      <th>Name</th>\n",
       "      <th>Red</th>\n",
       "      <th>Green</th>\n",
       "      <th>Blue</th>\n",
       "      <th>Gray</th>\n",
       "      <th>Contrast</th>\n",
       "      <th>Energy</th>\n",
       "      <th>Homogeneity</th>\n",
       "      <th>Asm</th>\n",
       "      <th>Correlation</th>\n",
       "      <th>Dissimilarity</th>\n",
       "      <th>Group</th>\n",
       "      <th>pH</th>\n",
       "    </tr>\n",
       "  </thead>\n",
       "  <tbody>\n",
       "    <tr>\n",
       "      <th>0</th>\n",
       "      <td>BAL1.png</td>\n",
       "      <td>19.17</td>\n",
       "      <td>13.49</td>\n",
       "      <td>8.50</td>\n",
       "      <td>14.62</td>\n",
       "      <td>67.28</td>\n",
       "      <td>0.73</td>\n",
       "      <td>0.77</td>\n",
       "      <td>0.53</td>\n",
       "      <td>0.96</td>\n",
       "      <td>2.74</td>\n",
       "      <td>1</td>\n",
       "      <td>4.86</td>\n",
       "    </tr>\n",
       "    <tr>\n",
       "      <th>1</th>\n",
       "      <td>BAL2.png</td>\n",
       "      <td>17.23</td>\n",
       "      <td>12.19</td>\n",
       "      <td>7.54</td>\n",
       "      <td>13.16</td>\n",
       "      <td>61.78</td>\n",
       "      <td>0.73</td>\n",
       "      <td>0.77</td>\n",
       "      <td>0.53</td>\n",
       "      <td>0.95</td>\n",
       "      <td>2.52</td>\n",
       "      <td>1</td>\n",
       "      <td>4.86</td>\n",
       "    </tr>\n",
       "    <tr>\n",
       "      <th>2</th>\n",
       "      <td>BAL3.png</td>\n",
       "      <td>17.39</td>\n",
       "      <td>12.53</td>\n",
       "      <td>8.08</td>\n",
       "      <td>13.47</td>\n",
       "      <td>72.57</td>\n",
       "      <td>0.73</td>\n",
       "      <td>0.77</td>\n",
       "      <td>0.53</td>\n",
       "      <td>0.95</td>\n",
       "      <td>2.66</td>\n",
       "      <td>1</td>\n",
       "      <td>4.86</td>\n",
       "    </tr>\n",
       "    <tr>\n",
       "      <th>3</th>\n",
       "      <td>BAL4.png</td>\n",
       "      <td>16.62</td>\n",
       "      <td>11.73</td>\n",
       "      <td>7.32</td>\n",
       "      <td>12.69</td>\n",
       "      <td>62.59</td>\n",
       "      <td>0.75</td>\n",
       "      <td>0.78</td>\n",
       "      <td>0.56</td>\n",
       "      <td>0.95</td>\n",
       "      <td>2.46</td>\n",
       "      <td>1</td>\n",
       "      <td>4.86</td>\n",
       "    </tr>\n",
       "    <tr>\n",
       "      <th>4</th>\n",
       "      <td>BAL5.png</td>\n",
       "      <td>14.97</td>\n",
       "      <td>10.67</td>\n",
       "      <td>6.66</td>\n",
       "      <td>11.50</td>\n",
       "      <td>61.59</td>\n",
       "      <td>0.74</td>\n",
       "      <td>0.79</td>\n",
       "      <td>0.55</td>\n",
       "      <td>0.94</td>\n",
       "      <td>2.30</td>\n",
       "      <td>1</td>\n",
       "      <td>4.86</td>\n",
       "    </tr>\n",
       "    <tr>\n",
       "      <th>...</th>\n",
       "      <td>...</td>\n",
       "      <td>...</td>\n",
       "      <td>...</td>\n",
       "      <td>...</td>\n",
       "      <td>...</td>\n",
       "      <td>...</td>\n",
       "      <td>...</td>\n",
       "      <td>...</td>\n",
       "      <td>...</td>\n",
       "      <td>...</td>\n",
       "      <td>...</td>\n",
       "      <td>...</td>\n",
       "      <td>...</td>\n",
       "    </tr>\n",
       "    <tr>\n",
       "      <th>75</th>\n",
       "      <td>PM6.png</td>\n",
       "      <td>15.56</td>\n",
       "      <td>11.16</td>\n",
       "      <td>7.52</td>\n",
       "      <td>12.06</td>\n",
       "      <td>102.80</td>\n",
       "      <td>0.67</td>\n",
       "      <td>0.69</td>\n",
       "      <td>0.45</td>\n",
       "      <td>0.87</td>\n",
       "      <td>4.52</td>\n",
       "      <td>2</td>\n",
       "      <td>5.09</td>\n",
       "    </tr>\n",
       "    <tr>\n",
       "      <th>76</th>\n",
       "      <td>PM7.png</td>\n",
       "      <td>13.78</td>\n",
       "      <td>9.55</td>\n",
       "      <td>6.16</td>\n",
       "      <td>10.43</td>\n",
       "      <td>87.24</td>\n",
       "      <td>0.68</td>\n",
       "      <td>0.70</td>\n",
       "      <td>0.46</td>\n",
       "      <td>0.86</td>\n",
       "      <td>4.14</td>\n",
       "      <td>2</td>\n",
       "      <td>5.09</td>\n",
       "    </tr>\n",
       "    <tr>\n",
       "      <th>77</th>\n",
       "      <td>PM8.png</td>\n",
       "      <td>14.76</td>\n",
       "      <td>10.34</td>\n",
       "      <td>6.88</td>\n",
       "      <td>11.26</td>\n",
       "      <td>92.39</td>\n",
       "      <td>0.65</td>\n",
       "      <td>0.68</td>\n",
       "      <td>0.42</td>\n",
       "      <td>0.86</td>\n",
       "      <td>4.45</td>\n",
       "      <td>2</td>\n",
       "      <td>5.09</td>\n",
       "    </tr>\n",
       "    <tr>\n",
       "      <th>78</th>\n",
       "      <td>PM9.png</td>\n",
       "      <td>13.60</td>\n",
       "      <td>9.54</td>\n",
       "      <td>6.27</td>\n",
       "      <td>10.38</td>\n",
       "      <td>81.25</td>\n",
       "      <td>0.65</td>\n",
       "      <td>0.68</td>\n",
       "      <td>0.42</td>\n",
       "      <td>0.86</td>\n",
       "      <td>4.17</td>\n",
       "      <td>2</td>\n",
       "      <td>5.09</td>\n",
       "    </tr>\n",
       "    <tr>\n",
       "      <th>79</th>\n",
       "      <td>PM10.png</td>\n",
       "      <td>13.48</td>\n",
       "      <td>9.46</td>\n",
       "      <td>6.30</td>\n",
       "      <td>10.29</td>\n",
       "      <td>80.63</td>\n",
       "      <td>0.68</td>\n",
       "      <td>0.71</td>\n",
       "      <td>0.46</td>\n",
       "      <td>0.87</td>\n",
       "      <td>3.94</td>\n",
       "      <td>2</td>\n",
       "      <td>5.09</td>\n",
       "    </tr>\n",
       "  </tbody>\n",
       "</table>\n",
       "<p>80 rows × 13 columns</p>\n",
       "</div>"
      ],
      "text/plain": [
       "        Name    Red  Green  Blue   Gray  Contrast  Energy  Homogeneity   Asm  \\\n",
       "0   BAL1.png  19.17  13.49  8.50  14.62     67.28    0.73         0.77  0.53   \n",
       "1   BAL2.png  17.23  12.19  7.54  13.16     61.78    0.73         0.77  0.53   \n",
       "2   BAL3.png  17.39  12.53  8.08  13.47     72.57    0.73         0.77  0.53   \n",
       "3   BAL4.png  16.62  11.73  7.32  12.69     62.59    0.75         0.78  0.56   \n",
       "4   BAL5.png  14.97  10.67  6.66  11.50     61.59    0.74         0.79  0.55   \n",
       "..       ...    ...    ...   ...    ...       ...     ...          ...   ...   \n",
       "75   PM6.png  15.56  11.16  7.52  12.06    102.80    0.67         0.69  0.45   \n",
       "76   PM7.png  13.78   9.55  6.16  10.43     87.24    0.68         0.70  0.46   \n",
       "77   PM8.png  14.76  10.34  6.88  11.26     92.39    0.65         0.68  0.42   \n",
       "78   PM9.png  13.60   9.54  6.27  10.38     81.25    0.65         0.68  0.42   \n",
       "79  PM10.png  13.48   9.46  6.30  10.29     80.63    0.68         0.71  0.46   \n",
       "\n",
       "    Correlation  Dissimilarity  Group    pH  \n",
       "0          0.96           2.74      1  4.86  \n",
       "1          0.95           2.52      1  4.86  \n",
       "2          0.95           2.66      1  4.86  \n",
       "3          0.95           2.46      1  4.86  \n",
       "4          0.94           2.30      1  4.86  \n",
       "..          ...            ...    ...   ...  \n",
       "75         0.87           4.52      2  5.09  \n",
       "76         0.86           4.14      2  5.09  \n",
       "77         0.86           4.45      2  5.09  \n",
       "78         0.86           4.17      2  5.09  \n",
       "79         0.87           3.94      2  5.09  \n",
       "\n",
       "[80 rows x 13 columns]"
      ]
     },
     "execution_count": 3,
     "metadata": {},
     "output_type": "execute_result"
    }
   ],
   "source": [
    "df = pd.read_excel('C:/Users/U5988116/Desktop/SeniorProject/Data/Database/Main/coffee_bean_DSLR_20.xlsx')  \n",
    " \n",
    "df"
   ]
  },
  {
   "cell_type": "code",
   "execution_count": 6,
   "metadata": {},
   "outputs": [
    {
     "data": {
      "text/html": [
       "<div>\n",
       "<style scoped>\n",
       "    .dataframe tbody tr th:only-of-type {\n",
       "        vertical-align: middle;\n",
       "    }\n",
       "\n",
       "    .dataframe tbody tr th {\n",
       "        vertical-align: top;\n",
       "    }\n",
       "\n",
       "    .dataframe thead th {\n",
       "        text-align: right;\n",
       "    }\n",
       "</style>\n",
       "<table border=\"1\" class=\"dataframe\">\n",
       "  <thead>\n",
       "    <tr style=\"text-align: right;\">\n",
       "      <th></th>\n",
       "      <th>Red</th>\n",
       "      <th>Green</th>\n",
       "      <th>Blue</th>\n",
       "    </tr>\n",
       "  </thead>\n",
       "  <tbody>\n",
       "    <tr>\n",
       "      <th>0</th>\n",
       "      <td>19.17</td>\n",
       "      <td>13.49</td>\n",
       "      <td>8.50</td>\n",
       "    </tr>\n",
       "    <tr>\n",
       "      <th>1</th>\n",
       "      <td>17.23</td>\n",
       "      <td>12.19</td>\n",
       "      <td>7.54</td>\n",
       "    </tr>\n",
       "    <tr>\n",
       "      <th>2</th>\n",
       "      <td>17.39</td>\n",
       "      <td>12.53</td>\n",
       "      <td>8.08</td>\n",
       "    </tr>\n",
       "    <tr>\n",
       "      <th>3</th>\n",
       "      <td>16.62</td>\n",
       "      <td>11.73</td>\n",
       "      <td>7.32</td>\n",
       "    </tr>\n",
       "    <tr>\n",
       "      <th>4</th>\n",
       "      <td>14.97</td>\n",
       "      <td>10.67</td>\n",
       "      <td>6.66</td>\n",
       "    </tr>\n",
       "    <tr>\n",
       "      <th>5</th>\n",
       "      <td>14.46</td>\n",
       "      <td>10.35</td>\n",
       "      <td>6.46</td>\n",
       "    </tr>\n",
       "    <tr>\n",
       "      <th>6</th>\n",
       "      <td>15.57</td>\n",
       "      <td>11.12</td>\n",
       "      <td>6.95</td>\n",
       "    </tr>\n",
       "    <tr>\n",
       "      <th>7</th>\n",
       "      <td>16.79</td>\n",
       "      <td>12.02</td>\n",
       "      <td>7.65</td>\n",
       "    </tr>\n",
       "    <tr>\n",
       "      <th>8</th>\n",
       "      <td>17.91</td>\n",
       "      <td>12.76</td>\n",
       "      <td>8.18</td>\n",
       "    </tr>\n",
       "    <tr>\n",
       "      <th>9</th>\n",
       "      <td>16.14</td>\n",
       "      <td>11.60</td>\n",
       "      <td>7.46</td>\n",
       "    </tr>\n",
       "  </tbody>\n",
       "</table>\n",
       "</div>"
      ],
      "text/plain": [
       "     Red  Green  Blue\n",
       "0  19.17  13.49  8.50\n",
       "1  17.23  12.19  7.54\n",
       "2  17.39  12.53  8.08\n",
       "3  16.62  11.73  7.32\n",
       "4  14.97  10.67  6.66\n",
       "5  14.46  10.35  6.46\n",
       "6  15.57  11.12  6.95\n",
       "7  16.79  12.02  7.65\n",
       "8  17.91  12.76  8.18\n",
       "9  16.14  11.60  7.46"
      ]
     },
     "execution_count": 6,
     "metadata": {},
     "output_type": "execute_result"
    }
   ],
   "source": [
    "BAL_1 = df.iloc[0:10,1:4] #BAL\n",
    "BPL_1 = df.iloc[10:20,1:4] #BPL\n",
    "CM_2= df.iloc[20:30,1:4] #CM\n",
    "BAM_3 = df.iloc[30:40,1:4]#BAM\n",
    "BPM_3 = df.iloc[40:50,1:4]#BPM\n",
    "BAD_4 = df.iloc[50:60,1:4]#BAD\n",
    "PD_4 = df.iloc[60:70,1:4]#PD\n",
    "PM_2= df.iloc[70:80,1:4]#PM\n",
    "BAL_1"
   ]
  },
  {
   "cell_type": "code",
   "execution_count": 7,
   "metadata": {},
   "outputs": [
    {
     "data": {
      "text/plain": [
       "20"
      ]
     },
     "execution_count": 7,
     "metadata": {},
     "output_type": "execute_result"
    }
   ],
   "source": [
    "G1= pd.concat([BAL_1, BPL_1])\n",
    "feature_G1 = G1.values\n",
    "G2= pd.concat([CM_2,PM_2])\n",
    "feature_G2 = G2.values\n",
    "G3=pd.concat([BAM_3,BPM_3])\n",
    "feature_G3 = G3.values\n",
    "G4=pd.concat([BAD_4,PD_4])\n",
    "feature_G4 = G4.values\n",
    "len(feature_G3)\n"
   ]
  },
  {
   "cell_type": "code",
   "execution_count": 8,
   "metadata": {},
   "outputs": [
    {
     "data": {
      "text/plain": [
       "10"
      ]
     },
     "execution_count": 8,
     "metadata": {},
     "output_type": "execute_result"
    }
   ],
   "source": [
    "Target_BAL_1 = df.iloc[0:10,11:12]#BAL\n",
    "Target_BPL_1 = df.iloc[10:20,11:12]#BPL\n",
    "Target_CM_2= df.iloc[20:30,11:12]#CM\n",
    "Target_BAM_3 = df.iloc[30:40,11:12]#BAM\n",
    "Target_BPM_3 = df.iloc[40:50,11:12]#BPM\n",
    "Target_BAD_4 = df.iloc[50:60,11:12]#BAD\n",
    "Target_PD_4 = df.iloc[60:70,11:12]#PD\n",
    "Target_PM_2= df.iloc[70:80,11:12]#PM\n",
    "len(Target_PM_2)"
   ]
  },
  {
   "cell_type": "code",
   "execution_count": 10,
   "metadata": {},
   "outputs": [
    {
     "data": {
      "text/plain": [
       "20"
      ]
     },
     "execution_count": 10,
     "metadata": {},
     "output_type": "execute_result"
    }
   ],
   "source": [
    "G1_target = pd.concat([Target_BAL_1, Target_BPL_1]).values\n",
    "G2_target = pd.concat([Target_CM_2,Target_PM_2]).values\n",
    "G3_target = pd.concat([Target_BAM_3,Target_BPM_3]).values\n",
    "G4_target = pd.concat([Target_BAD_4,Target_PD_4]).values\n",
    "len(G4_target)"
   ]
  },
  {
   "cell_type": "code",
   "execution_count": 11,
   "metadata": {},
   "outputs": [],
   "source": [
    "# 80% training and 20% test\n",
    "fea_train_G1, fea_test_G1, tar_train_G1, tar_test_G1 = train_test_split(feature_G1,G1_target, test_size=0.2, random_state=1)\n",
    "fea_train_G2, fea_test_G2, tar_train_G2, tar_test_G2 = train_test_split(feature_G2,G2_target, test_size=0.2, random_state=1)\n",
    "fea_train_G3, fea_test_G3, tar_train_G3, tar_test_G3 = train_test_split(feature_G3,G3_target, test_size=0.2, random_state=1)\n",
    "fea_train_G4, fea_test_G4, tar_train_G4, tar_test_G4 = train_test_split(feature_G4,G4_target, test_size=0.2, random_state=1)"
   ]
  },
  {
   "cell_type": "code",
   "execution_count": 12,
   "metadata": {},
   "outputs": [],
   "source": [
    "main_feature_train = np.concatenate((fea_train_G1, fea_train_G2,fea_train_G3,fea_train_G4), axis=0)\n",
    "main_target_train=np.concatenate((tar_train_G1, tar_train_G2,tar_train_G3,tar_train_G4), axis=0)\n",
    "main_feature_test = np.concatenate(( fea_test_G1,  fea_test_G2, fea_test_G3, fea_test_G4), axis=0)\n",
    "main_target_test=np.concatenate((tar_test_G1, tar_test_G2,tar_test_G3,tar_test_G4), axis=0)"
   ]
  },
  {
   "cell_type": "code",
   "execution_count": 15,
   "metadata": {},
   "outputs": [
    {
     "data": {
      "text/plain": [
       "DecisionTreeClassifier(ccp_alpha=0.0, class_weight=None, criterion='gini',\n",
       "                       max_depth=30, max_features=3, max_leaf_nodes=None,\n",
       "                       min_impurity_decrease=0.0, min_impurity_split=None,\n",
       "                       min_samples_leaf=4, min_samples_split=2,\n",
       "                       min_weight_fraction_leaf=0.0, presort='deprecated',\n",
       "                       random_state=None, splitter='best')"
      ]
     },
     "execution_count": 15,
     "metadata": {},
     "output_type": "execute_result"
    }
   ],
   "source": [
    "dTree = DecisionTreeClassifier(max_depth = 30, min_samples_leaf = 4, max_features = 3)\n",
    "dTree.fit(main_feature_train,main_target_train)"
   ]
  },
  {
   "cell_type": "code",
   "execution_count": 16,
   "metadata": {},
   "outputs": [
    {
     "data": {
      "text/plain": [
       "array([1, 2, 1, 2, 2, 1, 3, 2, 4, 3, 3, 4, 4, 4, 4, 3], dtype=int64)"
      ]
     },
     "execution_count": 16,
     "metadata": {},
     "output_type": "execute_result"
    }
   ],
   "source": [
    "ModelDT = dTree.predict(main_feature_test)\n",
    "ModelDT"
   ]
  },
  {
   "cell_type": "code",
   "execution_count": 17,
   "metadata": {},
   "outputs": [
    {
     "name": "stdout",
     "output_type": "stream",
     "text": [
      "\n",
      "Desicion Tree\n",
      "\n",
      "Evaluation of DTree Model : \n",
      "               precision    recall  f1-score   support\n",
      "\n",
      "           1       0.67      0.50      0.57         4\n",
      "           2       0.50      0.50      0.50         4\n",
      "           3       0.50      0.50      0.50         4\n",
      "           4       0.60      0.75      0.67         4\n",
      "\n",
      "    accuracy                           0.56        16\n",
      "   macro avg       0.57      0.56      0.56        16\n",
      "weighted avg       0.57      0.56      0.56        16\n",
      "\n"
     ]
    }
   ],
   "source": [
    "\n",
    "print(\"\\nDesicion Tree\")\n",
    "\n",
    "print(\"\\nEvaluation of DTree Model : \\n\", classification_report(main_target_test, ModelDT))"
   ]
  },
  {
   "cell_type": "code",
   "execution_count": 18,
   "metadata": {},
   "outputs": [],
   "source": [
    "ModelDT = dTree.predict(main_feature_test)"
   ]
  },
  {
   "cell_type": "code",
   "execution_count": null,
   "metadata": {},
   "outputs": [],
   "source": []
  },
  {
   "cell_type": "code",
   "execution_count": null,
   "metadata": {},
   "outputs": [],
   "source": []
  },
  {
   "cell_type": "code",
   "execution_count": null,
   "metadata": {},
   "outputs": [],
   "source": []
  },
  {
   "cell_type": "code",
   "execution_count": null,
   "metadata": {},
   "outputs": [],
   "source": []
  },
  {
   "cell_type": "code",
   "execution_count": null,
   "metadata": {},
   "outputs": [],
   "source": []
  },
  {
   "cell_type": "code",
   "execution_count": null,
   "metadata": {},
   "outputs": [],
   "source": []
  }
 ],
 "metadata": {
  "kernelspec": {
   "display_name": "Python 3",
   "language": "python",
   "name": "python3"
  },
  "language_info": {
   "codemirror_mode": {
    "name": "ipython",
    "version": 3
   },
   "file_extension": ".py",
   "mimetype": "text/x-python",
   "name": "python",
   "nbconvert_exporter": "python",
   "pygments_lexer": "ipython3",
   "version": "3.7.6"
  }
 },
 "nbformat": 4,
 "nbformat_minor": 4
}
