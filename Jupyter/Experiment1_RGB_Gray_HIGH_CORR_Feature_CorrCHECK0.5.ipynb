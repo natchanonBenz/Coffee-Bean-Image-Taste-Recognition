{
 "cells": [
  {
   "cell_type": "code",
   "execution_count": 32,
   "metadata": {},
   "outputs": [],
   "source": [
    "#Train camera 80 test phone 20\n",
    "#RGB"
   ]
  },
  {
   "cell_type": "code",
   "execution_count": 33,
   "metadata": {},
   "outputs": [],
   "source": [
    "import numpy as np \n",
    "import pandas as pd \n",
    "from sklearn.metrics import confusion_matrix \n",
    "from sklearn.model_selection import train_test_split \n",
    "from sklearn.tree import DecisionTreeClassifier \n",
    "from sklearn.metrics import accuracy_score \n",
    "from sklearn.metrics import classification_report "
   ]
  },
  {
   "cell_type": "code",
   "execution_count": 34,
   "metadata": {
    "scrolled": true
   },
   "outputs": [
    {
     "data": {
      "text/html": [
       "<div>\n",
       "<style scoped>\n",
       "    .dataframe tbody tr th:only-of-type {\n",
       "        vertical-align: middle;\n",
       "    }\n",
       "\n",
       "    .dataframe tbody tr th {\n",
       "        vertical-align: top;\n",
       "    }\n",
       "\n",
       "    .dataframe thead th {\n",
       "        text-align: right;\n",
       "    }\n",
       "</style>\n",
       "<table border=\"1\" class=\"dataframe\">\n",
       "  <thead>\n",
       "    <tr style=\"text-align: right;\">\n",
       "      <th></th>\n",
       "      <th>Red</th>\n",
       "      <th>Green</th>\n",
       "      <th>Gray</th>\n",
       "    </tr>\n",
       "  </thead>\n",
       "  <tbody>\n",
       "    <tr>\n",
       "      <th>0</th>\n",
       "      <td>19.17</td>\n",
       "      <td>13.49</td>\n",
       "      <td>14.62</td>\n",
       "    </tr>\n",
       "    <tr>\n",
       "      <th>1</th>\n",
       "      <td>17.23</td>\n",
       "      <td>12.19</td>\n",
       "      <td>13.16</td>\n",
       "    </tr>\n",
       "    <tr>\n",
       "      <th>2</th>\n",
       "      <td>17.39</td>\n",
       "      <td>12.53</td>\n",
       "      <td>13.47</td>\n",
       "    </tr>\n",
       "    <tr>\n",
       "      <th>3</th>\n",
       "      <td>16.62</td>\n",
       "      <td>11.73</td>\n",
       "      <td>12.69</td>\n",
       "    </tr>\n",
       "    <tr>\n",
       "      <th>4</th>\n",
       "      <td>14.97</td>\n",
       "      <td>10.67</td>\n",
       "      <td>11.50</td>\n",
       "    </tr>\n",
       "    <tr>\n",
       "      <th>...</th>\n",
       "      <td>...</td>\n",
       "      <td>...</td>\n",
       "      <td>...</td>\n",
       "    </tr>\n",
       "    <tr>\n",
       "      <th>75</th>\n",
       "      <td>15.56</td>\n",
       "      <td>11.16</td>\n",
       "      <td>12.06</td>\n",
       "    </tr>\n",
       "    <tr>\n",
       "      <th>76</th>\n",
       "      <td>13.78</td>\n",
       "      <td>9.55</td>\n",
       "      <td>10.43</td>\n",
       "    </tr>\n",
       "    <tr>\n",
       "      <th>77</th>\n",
       "      <td>14.76</td>\n",
       "      <td>10.34</td>\n",
       "      <td>11.26</td>\n",
       "    </tr>\n",
       "    <tr>\n",
       "      <th>78</th>\n",
       "      <td>13.60</td>\n",
       "      <td>9.54</td>\n",
       "      <td>10.38</td>\n",
       "    </tr>\n",
       "    <tr>\n",
       "      <th>79</th>\n",
       "      <td>13.48</td>\n",
       "      <td>9.46</td>\n",
       "      <td>10.29</td>\n",
       "    </tr>\n",
       "  </tbody>\n",
       "</table>\n",
       "<p>80 rows × 3 columns</p>\n",
       "</div>"
      ],
      "text/plain": [
       "      Red  Green   Gray\n",
       "0   19.17  13.49  14.62\n",
       "1   17.23  12.19  13.16\n",
       "2   17.39  12.53  13.47\n",
       "3   16.62  11.73  12.69\n",
       "4   14.97  10.67  11.50\n",
       "..    ...    ...    ...\n",
       "75  15.56  11.16  12.06\n",
       "76  13.78   9.55  10.43\n",
       "77  14.76  10.34  11.26\n",
       "78  13.60   9.54  10.38\n",
       "79  13.48   9.46  10.29\n",
       "\n",
       "[80 rows x 3 columns]"
      ]
     },
     "execution_count": 34,
     "metadata": {},
     "output_type": "execute_result"
    }
   ],
   "source": [
    "df = pd.read_excel('C:/Users/U5988116/Desktop/SeniorProject/Data/Database/Main/coffee_bean_DSLR_20.xlsx')  \n",
    "df2 = df \n",
    "d1= df.iloc[:, 1:3]\n",
    "d2= df.iloc[:,4:5]\n",
    "\n",
    "hi_df = pd.concat([d1,d2], axis=1) #high corr feature\n",
    "hi_df"
   ]
  },
  {
   "cell_type": "code",
   "execution_count": 35,
   "metadata": {},
   "outputs": [
    {
     "data": {
      "text/html": [
       "<div>\n",
       "<style scoped>\n",
       "    .dataframe tbody tr th:only-of-type {\n",
       "        vertical-align: middle;\n",
       "    }\n",
       "\n",
       "    .dataframe tbody tr th {\n",
       "        vertical-align: top;\n",
       "    }\n",
       "\n",
       "    .dataframe thead th {\n",
       "        text-align: right;\n",
       "    }\n",
       "</style>\n",
       "<table border=\"1\" class=\"dataframe\">\n",
       "  <thead>\n",
       "    <tr style=\"text-align: right;\">\n",
       "      <th></th>\n",
       "      <th>Red</th>\n",
       "      <th>Green</th>\n",
       "      <th>Gray</th>\n",
       "    </tr>\n",
       "  </thead>\n",
       "  <tbody>\n",
       "    <tr>\n",
       "      <th>70</th>\n",
       "      <td>12.75</td>\n",
       "      <td>8.88</td>\n",
       "      <td>9.68</td>\n",
       "    </tr>\n",
       "    <tr>\n",
       "      <th>71</th>\n",
       "      <td>11.96</td>\n",
       "      <td>8.34</td>\n",
       "      <td>9.09</td>\n",
       "    </tr>\n",
       "    <tr>\n",
       "      <th>72</th>\n",
       "      <td>12.00</td>\n",
       "      <td>8.33</td>\n",
       "      <td>9.08</td>\n",
       "    </tr>\n",
       "    <tr>\n",
       "      <th>73</th>\n",
       "      <td>12.33</td>\n",
       "      <td>8.57</td>\n",
       "      <td>9.35</td>\n",
       "    </tr>\n",
       "    <tr>\n",
       "      <th>74</th>\n",
       "      <td>12.42</td>\n",
       "      <td>8.57</td>\n",
       "      <td>9.37</td>\n",
       "    </tr>\n",
       "    <tr>\n",
       "      <th>75</th>\n",
       "      <td>15.56</td>\n",
       "      <td>11.16</td>\n",
       "      <td>12.06</td>\n",
       "    </tr>\n",
       "    <tr>\n",
       "      <th>76</th>\n",
       "      <td>13.78</td>\n",
       "      <td>9.55</td>\n",
       "      <td>10.43</td>\n",
       "    </tr>\n",
       "    <tr>\n",
       "      <th>77</th>\n",
       "      <td>14.76</td>\n",
       "      <td>10.34</td>\n",
       "      <td>11.26</td>\n",
       "    </tr>\n",
       "    <tr>\n",
       "      <th>78</th>\n",
       "      <td>13.60</td>\n",
       "      <td>9.54</td>\n",
       "      <td>10.38</td>\n",
       "    </tr>\n",
       "    <tr>\n",
       "      <th>79</th>\n",
       "      <td>13.48</td>\n",
       "      <td>9.46</td>\n",
       "      <td>10.29</td>\n",
       "    </tr>\n",
       "  </tbody>\n",
       "</table>\n",
       "</div>"
      ],
      "text/plain": [
       "      Red  Green   Gray\n",
       "70  12.75   8.88   9.68\n",
       "71  11.96   8.34   9.09\n",
       "72  12.00   8.33   9.08\n",
       "73  12.33   8.57   9.35\n",
       "74  12.42   8.57   9.37\n",
       "75  15.56  11.16  12.06\n",
       "76  13.78   9.55  10.43\n",
       "77  14.76  10.34  11.26\n",
       "78  13.60   9.54  10.38\n",
       "79  13.48   9.46  10.29"
      ]
     },
     "execution_count": 35,
     "metadata": {},
     "output_type": "execute_result"
    }
   ],
   "source": [
    "df=hi_df\n",
    "BAL_1 = df.iloc[0:10,0:3] #BAL\n",
    "BPL_1 = df.iloc[10:20,0:3] #BPL\n",
    "CM_2= df.iloc[20:30,0:3] #CM\n",
    "BAM_3 = df.iloc[30:40,0:3]#BAM\n",
    "BPM_3 = df.iloc[40:50,0:3]#BPM\n",
    "BAD_4 = df.iloc[50:60,0:3]#BAD\n",
    "PD_4 = df.iloc[60:70,0:3]#PD\n",
    "PM_2= df.iloc[70:80,0:3]#PM\n",
    "PM_2\n"
   ]
  },
  {
   "cell_type": "code",
   "execution_count": 36,
   "metadata": {},
   "outputs": [],
   "source": [
    "G1= pd.concat([BAL_1, BPL_1])\n",
    "feature_G1 = G1.values\n",
    "G2= pd.concat([CM_2,PM_2])\n",
    "feature_G2 = G2.values\n",
    "G3=pd.concat([BAM_3,BPM_3])\n",
    "feature_G3 = G3.values\n",
    "G4=pd.concat([BAD_4,PD_4])\n",
    "feature_G4 = G4.values"
   ]
  },
  {
   "cell_type": "code",
   "execution_count": 37,
   "metadata": {},
   "outputs": [
    {
     "data": {
      "text/html": [
       "<div>\n",
       "<style scoped>\n",
       "    .dataframe tbody tr th:only-of-type {\n",
       "        vertical-align: middle;\n",
       "    }\n",
       "\n",
       "    .dataframe tbody tr th {\n",
       "        vertical-align: top;\n",
       "    }\n",
       "\n",
       "    .dataframe thead th {\n",
       "        text-align: right;\n",
       "    }\n",
       "</style>\n",
       "<table border=\"1\" class=\"dataframe\">\n",
       "  <thead>\n",
       "    <tr style=\"text-align: right;\">\n",
       "      <th></th>\n",
       "      <th>Group</th>\n",
       "    </tr>\n",
       "  </thead>\n",
       "  <tbody>\n",
       "    <tr>\n",
       "      <th>70</th>\n",
       "      <td>2</td>\n",
       "    </tr>\n",
       "    <tr>\n",
       "      <th>71</th>\n",
       "      <td>2</td>\n",
       "    </tr>\n",
       "    <tr>\n",
       "      <th>72</th>\n",
       "      <td>2</td>\n",
       "    </tr>\n",
       "    <tr>\n",
       "      <th>73</th>\n",
       "      <td>2</td>\n",
       "    </tr>\n",
       "    <tr>\n",
       "      <th>74</th>\n",
       "      <td>2</td>\n",
       "    </tr>\n",
       "    <tr>\n",
       "      <th>75</th>\n",
       "      <td>2</td>\n",
       "    </tr>\n",
       "    <tr>\n",
       "      <th>76</th>\n",
       "      <td>2</td>\n",
       "    </tr>\n",
       "    <tr>\n",
       "      <th>77</th>\n",
       "      <td>2</td>\n",
       "    </tr>\n",
       "    <tr>\n",
       "      <th>78</th>\n",
       "      <td>2</td>\n",
       "    </tr>\n",
       "    <tr>\n",
       "      <th>79</th>\n",
       "      <td>2</td>\n",
       "    </tr>\n",
       "  </tbody>\n",
       "</table>\n",
       "</div>"
      ],
      "text/plain": [
       "    Group\n",
       "70      2\n",
       "71      2\n",
       "72      2\n",
       "73      2\n",
       "74      2\n",
       "75      2\n",
       "76      2\n",
       "77      2\n",
       "78      2\n",
       "79      2"
      ]
     },
     "execution_count": 37,
     "metadata": {},
     "output_type": "execute_result"
    }
   ],
   "source": [
    "df = df2\n",
    "Target_BAL_1 = df.iloc[0:10,11:12]#BAL\n",
    "Target_BPL_1 = df.iloc[10:20,11:12]#BPL\n",
    "Target_CM_2= df.iloc[20:30,11:12]#CM\n",
    "Target_BAM_3 = df.iloc[30:40,11:12]#BAM\n",
    "Target_BPM_3 = df.iloc[40:50,11:12]#BPM\n",
    "Target_BAD_4 = df.iloc[50:60,11:12]#BAD\n",
    "Target_PD_4 = df.iloc[60:70,11:12]#PD\n",
    "Target_PM_2= df.iloc[70:80,11:12]#PM\n",
    "Target_PM_2\n"
   ]
  },
  {
   "cell_type": "code",
   "execution_count": 38,
   "metadata": {},
   "outputs": [
    {
     "data": {
      "text/plain": [
       "array([[1],\n",
       "       [1],\n",
       "       [1],\n",
       "       [1],\n",
       "       [1],\n",
       "       [1],\n",
       "       [1],\n",
       "       [1],\n",
       "       [1],\n",
       "       [1],\n",
       "       [1],\n",
       "       [1],\n",
       "       [1],\n",
       "       [1],\n",
       "       [1],\n",
       "       [1],\n",
       "       [1],\n",
       "       [1],\n",
       "       [1],\n",
       "       [1]], dtype=int64)"
      ]
     },
     "execution_count": 38,
     "metadata": {},
     "output_type": "execute_result"
    }
   ],
   "source": [
    "G1_target = pd.concat([Target_BAL_1, Target_BPL_1]).values\n",
    "G2_target = pd.concat([Target_CM_2,Target_PM_2]).values\n",
    "G3_target = pd.concat([Target_BAM_3,Target_BPM_3]).values\n",
    "G4_target = pd.concat([Target_BAD_4,Target_PD_4]).values\n",
    "G1_target"
   ]
  },
  {
   "cell_type": "code",
   "execution_count": 39,
   "metadata": {},
   "outputs": [],
   "source": [
    "# 80% training and 20% test\n",
    "fea_train_G1, fea_test_G1, tar_train_G1, tar_test_G1 = train_test_split(feature_G1,G1_target, test_size=0.2, random_state=1)\n",
    "fea_train_G2, fea_test_G2, tar_train_G2, tar_test_G2 = train_test_split(feature_G2,G2_target, test_size=0.2, random_state=1)\n",
    "fea_train_G3, fea_test_G3, tar_train_G3, tar_test_G3 = train_test_split(feature_G3,G3_target, test_size=0.2, random_state=1)\n",
    "fea_train_G4, fea_test_G4, tar_train_G4, tar_test_G4 = train_test_split(feature_G4,G4_target, test_size=0.2, random_state=1)"
   ]
  },
  {
   "cell_type": "code",
   "execution_count": 40,
   "metadata": {
    "scrolled": true
   },
   "outputs": [
    {
     "data": {
      "text/plain": [
       "array([[17.39, 12.53, 13.47],\n",
       "       [16.85, 12.52, 13.41],\n",
       "       [14.97, 10.67, 11.5 ],\n",
       "       [12.06,  8.17,  8.97],\n",
       "       [16.79, 12.02, 12.95],\n",
       "       [17.23, 12.19, 13.16],\n",
       "       [15.63, 10.47, 11.53],\n",
       "       [19.17, 13.49, 14.62],\n",
       "       [13.04,  8.85,  9.71],\n",
       "       [12.93,  8.68,  9.55],\n",
       "       [16.14, 11.6 , 12.49],\n",
       "       [13.97, 10.03, 10.85],\n",
       "       [17.91, 12.76, 13.78],\n",
       "       [13.76,  9.28, 10.21],\n",
       "       [15.35, 10.31, 11.35],\n",
       "       [14.46, 10.35, 11.14]])"
      ]
     },
     "execution_count": 40,
     "metadata": {},
     "output_type": "execute_result"
    }
   ],
   "source": [
    "fea_train_G1"
   ]
  },
  {
   "cell_type": "code",
   "execution_count": 41,
   "metadata": {},
   "outputs": [],
   "source": [
    "main_feature_train = np.concatenate((fea_train_G1, fea_train_G2,fea_train_G3,fea_train_G4), axis=0)\n",
    "main_target_train=np.concatenate((tar_train_G1, tar_train_G2,tar_train_G3,tar_train_G4), axis=0)\n",
    "main_feature_test = np.concatenate(( fea_test_G1,  fea_test_G2, fea_test_G3, fea_test_G4), axis=0)\n",
    "main_target_test=np.concatenate((tar_test_G1, tar_test_G2,tar_test_G3,tar_test_G4), axis=0)"
   ]
  },
  {
   "cell_type": "code",
   "execution_count": 43,
   "metadata": {},
   "outputs": [
    {
     "data": {
      "text/plain": [
       "DecisionTreeClassifier(ccp_alpha=0.0, class_weight=None, criterion='gini',\n",
       "                       max_depth=30, max_features=3, max_leaf_nodes=None,\n",
       "                       min_impurity_decrease=0.0, min_impurity_split=None,\n",
       "                       min_samples_leaf=4, min_samples_split=2,\n",
       "                       min_weight_fraction_leaf=0.0, presort='deprecated',\n",
       "                       random_state=None, splitter='best')"
      ]
     },
     "execution_count": 43,
     "metadata": {},
     "output_type": "execute_result"
    }
   ],
   "source": [
    "dTree = DecisionTreeClassifier(max_depth = 30, min_samples_leaf = 4, max_features = 3)\n",
    "dTree.fit(main_feature_train,main_target_train)"
   ]
  },
  {
   "cell_type": "code",
   "execution_count": 44,
   "metadata": {},
   "outputs": [
    {
     "data": {
      "text/plain": [
       "array([2, 3, 2, 2, 1, 1, 2, 1, 4, 1, 3, 4, 3, 4, 4, 3], dtype=int64)"
      ]
     },
     "execution_count": 44,
     "metadata": {},
     "output_type": "execute_result"
    }
   ],
   "source": [
    "ModelDT = dTree.predict(main_feature_test)\n",
    "ModelDT"
   ]
  },
  {
   "cell_type": "code",
   "execution_count": 45,
   "metadata": {},
   "outputs": [
    {
     "data": {
      "text/plain": [
       "array([[16.62, 11.73, 12.69],\n",
       "       [11.24,  7.58,  8.34],\n",
       "       [15.57, 11.12, 11.98],\n",
       "       [13.21,  8.92,  9.81],\n",
       "       [12.53,  9.36, 10.08],\n",
       "       [13.78,  9.55, 10.43],\n",
       "       [13.51,  9.89, 10.69],\n",
       "       [12.75,  8.88,  9.68],\n",
       "       [11.57,  9.42,  9.88],\n",
       "       [12.81, 10.02, 10.65],\n",
       "       [11.  ,  9.14,  9.54],\n",
       "       [ 9.93,  7.66,  8.18],\n",
       "       [11.66,  9.19,  9.77],\n",
       "       [ 8.71,  7.24,  7.59],\n",
       "       [ 9.14,  7.16,  7.62],\n",
       "       [10.45,  8.59,  9.03]])"
      ]
     },
     "execution_count": 45,
     "metadata": {},
     "output_type": "execute_result"
    }
   ],
   "source": [
    "main_feature_test"
   ]
  },
  {
   "cell_type": "code",
   "execution_count": 46,
   "metadata": {},
   "outputs": [
    {
     "name": "stdout",
     "output_type": "stream",
     "text": [
      "\n",
      "Desicion Tree\n",
      "\n",
      "Evaluation of DTree Model : \n",
      "               precision    recall  f1-score   support\n",
      "\n",
      "           1       0.00      0.00      0.00         4\n",
      "           2       0.25      0.25      0.25         4\n",
      "           3       0.25      0.25      0.25         4\n",
      "           4       0.50      0.50      0.50         4\n",
      "\n",
      "    accuracy                           0.25        16\n",
      "   macro avg       0.25      0.25      0.25        16\n",
      "weighted avg       0.25      0.25      0.25        16\n",
      "\n"
     ]
    }
   ],
   "source": [
    "\n",
    "print(\"\\nDesicion Tree\")\n",
    "\n",
    "print(\"\\nEvaluation of DTree Model : \\n\", classification_report(main_target_test, ModelDT))"
   ]
  },
  {
   "cell_type": "code",
   "execution_count": null,
   "metadata": {},
   "outputs": [],
   "source": []
  },
  {
   "cell_type": "code",
   "execution_count": null,
   "metadata": {},
   "outputs": [],
   "source": []
  },
  {
   "cell_type": "code",
   "execution_count": null,
   "metadata": {},
   "outputs": [],
   "source": []
  },
  {
   "cell_type": "code",
   "execution_count": null,
   "metadata": {},
   "outputs": [],
   "source": []
  },
  {
   "cell_type": "code",
   "execution_count": null,
   "metadata": {},
   "outputs": [],
   "source": []
  }
 ],
 "metadata": {
  "kernelspec": {
   "display_name": "Python 3",
   "language": "python",
   "name": "python3"
  },
  "language_info": {
   "codemirror_mode": {
    "name": "ipython",
    "version": 3
   },
   "file_extension": ".py",
   "mimetype": "text/x-python",
   "name": "python",
   "nbconvert_exporter": "python",
   "pygments_lexer": "ipython3",
   "version": "3.7.6"
  }
 },
 "nbformat": 4,
 "nbformat_minor": 4
}
